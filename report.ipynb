{
  "nbformat": 4,
  "nbformat_minor": 0,
  "metadata": {
    "colab": {
      "provenance": [],
      "toc_visible": true,
      "include_colab_link": true
    },
    "kernelspec": {
      "name": "python3",
      "display_name": "Python 3"
    },
    "language_info": {
      "name": "python"
    }
  },
  "cells": [
    {
      "cell_type": "markdown",
      "metadata": {
        "id": "view-in-github",
        "colab_type": "text"
      },
      "source": [
        "<a href=\"https://colab.research.google.com/github/a-matson/DST_ASS1/blob/main/report.ipynb\" target=\"_parent\"><img src=\"https://colab.research.google.com/assets/colab-badge.svg\" alt=\"Open In Colab\"/></a>"
      ]
    },
    {
      "cell_type": "markdown",
      "source": [
        "# To-do\n",
        "\n",
        "\n",
        "\n",
        "* Research, discuss and select performance metrics - ALL\n",
        "* Introduce the dataset - ?\n",
        "* EDA - Josh\n",
        "* Everyone do their model experiments\n",
        "  * Logistic regression - Geraint\n",
        "  * SVM - Andre\n",
        "  * Neural networks - Ethan\n",
        "  * Decision trees - Josh\n",
        "* Summary/conclusion - ?\n",
        "\n"
      ],
      "metadata": {
        "id": "dSb5Lj_bGOCx"
      }
    },
    {
      "cell_type": "markdown",
      "source": [
        "# Imports"
      ],
      "metadata": {
        "id": "icurb7BtD-vs"
      }
    },
    {
      "cell_type": "code",
      "source": [
        "!pip install"
      ],
      "metadata": {
        "id": "PZS90y2JECP8"
      },
      "execution_count": null,
      "outputs": []
    },
    {
      "cell_type": "markdown",
      "source": [
        "# Andre"
      ],
      "metadata": {
        "id": "KhLmIBUXECzQ"
      }
    },
    {
      "cell_type": "code",
      "source": [],
      "metadata": {
        "id": "uMtJtb-MEEfu"
      },
      "execution_count": null,
      "outputs": []
    },
    {
      "cell_type": "markdown",
      "source": [
        "## Logistic regression"
      ],
      "metadata": {
        "id": "gT-3FOErElHX"
      }
    },
    {
      "cell_type": "code",
      "source": [],
      "metadata": {
        "id": "RTIFX30BEoJ9"
      },
      "execution_count": null,
      "outputs": []
    },
    {
      "cell_type": "markdown",
      "source": [
        "## SMV"
      ],
      "metadata": {
        "id": "Z3NWZnSnEpor"
      }
    },
    {
      "cell_type": "code",
      "source": [],
      "metadata": {
        "id": "QPPZGknPEt9P"
      },
      "execution_count": null,
      "outputs": []
    },
    {
      "cell_type": "markdown",
      "source": [
        "# Ethan"
      ],
      "metadata": {
        "id": "Bl7v_BbCEEz3"
      }
    },
    {
      "cell_type": "code",
      "source": [],
      "metadata": {
        "id": "veZj3jtWEHCa"
      },
      "execution_count": null,
      "outputs": []
    },
    {
      "cell_type": "markdown",
      "source": [
        "#Josh"
      ],
      "metadata": {
        "id": "Kofgwl_mEHSI"
      }
    },
    {
      "cell_type": "code",
      "source": [],
      "metadata": {
        "id": "4q_Hv5k8EVw4"
      },
      "execution_count": null,
      "outputs": []
    },
    {
      "cell_type": "markdown",
      "source": [
        "#Geraint"
      ],
      "metadata": {
        "id": "Ul2MSgVqEXg9"
      }
    },
    {
      "cell_type": "code",
      "source": [],
      "metadata": {
        "id": "H0T18JbiEagv"
      },
      "execution_count": null,
      "outputs": []
    }
  ]
}