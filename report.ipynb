{
  "nbformat": 4,
  "nbformat_minor": 0,
  "metadata": {
    "colab": {
      "provenance": [],
      "collapsed_sections": [
        "Kofgwl_mEHSI"
      ],
      "include_colab_link": true
    },
    "kernelspec": {
      "name": "python3",
      "display_name": "Python 3"
    },
    "language_info": {
      "name": "python"
    }
  },
  "cells": [
    {
      "cell_type": "markdown",
      "metadata": {
        "id": "view-in-github",
        "colab_type": "text"
      },
      "source": [
        "<a href=\"https://colab.research.google.com/github/a-matson/DST_ASS1/blob/main/report.ipynb\" target=\"_parent\"><img src=\"https://colab.research.google.com/assets/colab-badge.svg\" alt=\"Open In Colab\"/></a>"
      ]
    },
    {
      "cell_type": "markdown",
      "source": [
        "# To-do\n",
        "\n",
        "\n",
        "\n",
        "* Research, discuss and select performance metrics - ALL\n",
        "* Introduce the dataset - ?\n",
        "* EDA - Josh\n",
        "* Everyone do their model experiments\n",
        "  * Logistic regression - Geraint\n",
        "  * SVM - Andre\n",
        "  * Neural networks - Ethan\n",
        "  * Decision trees - Josh\n",
        "* Summary/conclusion - ?\n",
        "\n"
      ],
      "metadata": {
        "id": "dSb5Lj_bGOCx"
      }
    },
    {
      "cell_type": "markdown",
      "source": [
        "# Introduction\n",
        "\n",
        "Cite introductory paper for dataset: https://www.semanticscholar.org/paper/Nuclear-feature-extraction-for-breast-tumor-Street-Wolberg/53f0fbb425bc14468eb3bf96b2e1d41ba8087f36\n",
        "\n",
        "All samples are taken from breast tumours. For each sample (fine needle aspirate), they use computer vision techniques to identify all of the cell nuclei and compute 10 features for each nucleus. The dataset contains, for each sample, the mean, largest (or 'worst') and standard error of each feature.\n",
        "\n",
        "https://ftp.cs.wisc.edu/math-prog/cpo-dataset/machine-learn/cancer/WDBC/WDBC.dat"
      ],
      "metadata": {
        "id": "bNI4IyZhb-SL"
      }
    },
    {
      "cell_type": "markdown",
      "source": [
        "# Performance metrics\n",
        "\n",
        "As researched (and discussed in dataset paper), medical performance metrics are sensitivity and specificity.\n",
        "\n",
        "Our primary goal will be maximising sensitivity values but we will also report specificity/ ROC curves/ accuracy etc.\n",
        "\n",
        "This is because we want to penalise false negatives as much as possible, as missing a cancer diagnosis is potentially fatal."
      ],
      "metadata": {
        "id": "5poXvSN5grJ7"
      }
    },
    {
      "cell_type": "markdown",
      "source": [
        "# Imports and setting up dataset"
      ],
      "metadata": {
        "id": "icurb7BtD-vs"
      }
    },
    {
      "cell_type": "code",
      "source": [
        "!pip install ucimlrepo"
      ],
      "metadata": {
        "id": "PZS90y2JECP8",
        "colab": {
          "base_uri": "https://localhost:8080/"
        },
        "outputId": "eb1284ee-95b3-4d3b-86f8-88423eb95711"
      },
      "execution_count": 1,
      "outputs": [
        {
          "output_type": "stream",
          "name": "stdout",
          "text": [
            "Collecting ucimlrepo\n",
            "  Downloading ucimlrepo-0.0.3-py3-none-any.whl (7.0 kB)\n",
            "Installing collected packages: ucimlrepo\n",
            "Successfully installed ucimlrepo-0.0.3\n"
          ]
        }
      ]
    },
    {
      "cell_type": "code",
      "source": [
        "import sklearn as sklearn\n",
        "import pandas as pd\n",
        "import numpy as np\n",
        "import matplotlib.pyplot as plt\n",
        "import seaborn as sns\n",
        "\n",
        "from sklearn.model_selection import train_test_split, KFold, GridSearchCV\n",
        "from sklearn.preprocessing import StandardScaler\n",
        "from sklearn.linear_model import LogisticRegression\n",
        "from sklearn.metrics import confusion_matrix, classification_report, roc_curve, roc_auc_score\n",
        "from sklearn.ensemble import RandomForestClassifier\n",
        "import sklearn.tree\n",
        "\n",
        "import matplotlib.gridspec as gridspec # subplots\n",
        "%matplotlib inline\n"
      ],
      "metadata": {
        "id": "Ly9aR3iLH-m_"
      },
      "execution_count": 32,
      "outputs": []
    },
    {
      "cell_type": "code",
      "source": [
        "from ucimlrepo import fetch_ucirepo\n",
        "\n",
        "# fetch dataset\n",
        "breast_cancer_wisconsin_diagnostic = fetch_ucirepo(id=17)\n",
        "\n",
        "# data (as pandas dataframes)\n",
        "X = breast_cancer_wisconsin_diagnostic.data.features\n",
        "y = breast_cancer_wisconsin_diagnostic.data.targets\n",
        "\n",
        "y['Diagnosis'] = y['Diagnosis'].map({'M':0, 'B':1})\n",
        "\n",
        "# metadata\n",
        "#print(breast_cancer_wisconsin_diagnostic.metadata)\n",
        "\n",
        "# variable information\n",
        "#print(breast_cancer_wisconsin_diagnostic.variables)"
      ],
      "metadata": {
        "id": "Ap1g_feVHEjR",
        "colab": {
          "base_uri": "https://localhost:8080/"
        },
        "outputId": "d1577923-969e-4fb9-b67c-0d01da3f7a2b"
      },
      "execution_count": 3,
      "outputs": [
        {
          "output_type": "stream",
          "name": "stderr",
          "text": [
            "<ipython-input-3-411e26e520e5>:10: SettingWithCopyWarning: \n",
            "A value is trying to be set on a copy of a slice from a DataFrame.\n",
            "Try using .loc[row_indexer,col_indexer] = value instead\n",
            "\n",
            "See the caveats in the documentation: https://pandas.pydata.org/pandas-docs/stable/user_guide/indexing.html#returning-a-view-versus-a-copy\n",
            "  y['Diagnosis'] = y['Diagnosis'].map({'M':0, 'B':1})\n"
          ]
        }
      ]
    },
    {
      "cell_type": "code",
      "source": [
        "column_name_mapping = {\n",
        "    \"radius1\": \"radius_mean\",\n",
        "    \"texture1\": \"texture_mean\",\n",
        "    \"perimeter1\": \"perimeter_mean\",\n",
        "    \"area1\": \"area_mean\",\n",
        "    \"smoothness1\": \"smoothness_mean\",\n",
        "    \"compactness1\": \"compactness_mean\",\n",
        "    \"concavity1\": \"concavity_mean\",\n",
        "    \"concave_points1\": \"concave points_mean\",\n",
        "    \"symmetry1\": \"symmetry_mean\",\n",
        "    \"fractal_dimension1\": \"fractal_dimension_mean\",\n",
        "    \"radius2\": \"radius_se\",\n",
        "    \"texture2\": \"texture_se\",\n",
        "    \"perimeter2\": \"perimeter_se\",\n",
        "    \"area2\": \"area_se\",\n",
        "    \"smoothness2\": \"smoothness_se\",\n",
        "    \"compactness2\": \"compactness_se\",\n",
        "    \"concavity2\": \"concavity_se\",\n",
        "    \"concave_points2\": \"concave points_se\",\n",
        "    \"symmetry2\": \"symmetry_se\",\n",
        "    \"fractal_dimension2\": \"fractal_dimension_se\",\n",
        "    \"radius3\": \"radius_worst\",\n",
        "    \"texture3\": \"texture_worst\",\n",
        "    \"perimeter3\": \"perimeter_worst\",\n",
        "    \"area3\": \"area_worst\",\n",
        "    \"smoothness3\": \"smoothness_worst\",\n",
        "    \"compactness3\": \"compactness_worst\",\n",
        "    \"concavity3\": \"concavity_worst\",\n",
        "    \"concave_points3\": \"concave points_worst\",\n",
        "    \"symmetry3\": \"symmetry_worst\",\n",
        "    \"fractal_dimension3\": \"fractal_dimension_worst\",\n",
        "}\n"
      ],
      "metadata": {
        "id": "tGVNv3N5OzU6"
      },
      "execution_count": 4,
      "outputs": []
    },
    {
      "cell_type": "code",
      "source": [
        "# Rename columns\n",
        "\n",
        "X = X.rename(columns=column_name_mapping)\n",
        "X.columns"
      ],
      "metadata": {
        "colab": {
          "base_uri": "https://localhost:8080/"
        },
        "id": "7N_vSidkemYT",
        "outputId": "567c5a1c-9f8a-42b6-d78f-49ab7c4e68d9"
      },
      "execution_count": 5,
      "outputs": [
        {
          "output_type": "execute_result",
          "data": {
            "text/plain": [
              "Index(['radius_mean', 'texture_mean', 'perimeter_mean', 'area_mean',\n",
              "       'smoothness_mean', 'compactness_mean', 'concavity_mean',\n",
              "       'concave points_mean', 'symmetry_mean', 'fractal_dimension_mean',\n",
              "       'radius_se', 'texture_se', 'perimeter_se', 'area_se', 'smoothness_se',\n",
              "       'compactness_se', 'concavity_se', 'concave points_se', 'symmetry_se',\n",
              "       'fractal_dimension_se', 'radius_worst', 'texture_worst',\n",
              "       'perimeter_worst', 'area_worst', 'smoothness_worst',\n",
              "       'compactness_worst', 'concavity_worst', 'concave points_worst',\n",
              "       'symmetry_worst', 'fractal_dimension_worst'],\n",
              "      dtype='object')"
            ]
          },
          "metadata": {},
          "execution_count": 5
        }
      ]
    },
    {
      "cell_type": "code",
      "source": [
        "# Train-test split\n",
        "\n",
        "X_train, X_test, y_train, y_test = train_test_split(X, y, test_size=0.2, random_state=4)"
      ],
      "metadata": {
        "id": "0qCL-P9HI0GU"
      },
      "execution_count": 6,
      "outputs": []
    },
    {
      "cell_type": "code",
      "source": [
        "X_train.head()"
      ],
      "metadata": {
        "colab": {
          "base_uri": "https://localhost:8080/",
          "height": 273
        },
        "id": "3KHUvBf_I9z4",
        "outputId": "ada0710f-25e6-4c50-b10b-a67322e7cffe"
      },
      "execution_count": 7,
      "outputs": [
        {
          "output_type": "execute_result",
          "data": {
            "text/plain": [
              "     radius_mean  texture_mean  perimeter_mean  area_mean  smoothness_mean  \\\n",
              "342        11.06         14.96           71.49      373.9          0.10330   \n",
              "138        14.95         17.57           96.85      678.1          0.11670   \n",
              "434        14.86         16.94           94.89      673.7          0.08924   \n",
              "47         13.17         18.66           85.98      534.6          0.11580   \n",
              "64         12.68         23.84           82.69      499.0          0.11220   \n",
              "\n",
              "     compactness_mean  concavity_mean  concave points_mean  symmetry_mean  \\\n",
              "342           0.09097         0.05397              0.03341         0.1776   \n",
              "138           0.13050         0.15390              0.08624         0.1957   \n",
              "434           0.07074         0.03346              0.02877         0.1573   \n",
              "47            0.12310         0.12260              0.07340         0.2128   \n",
              "64            0.12620         0.11280              0.06873         0.1905   \n",
              "\n",
              "     fractal_dimension_mean  ...  radius_worst  texture_worst  \\\n",
              "342                 0.06907  ...         11.92          19.90   \n",
              "138                 0.06216  ...         18.55          21.43   \n",
              "434                 0.05703  ...         16.31          20.54   \n",
              "47                  0.06777  ...         15.67          27.95   \n",
              "64                  0.06590  ...         17.09          33.47   \n",
              "\n",
              "     perimeter_worst  area_worst  smoothness_worst  compactness_worst  \\\n",
              "342            79.76       440.0            0.1418             0.2210   \n",
              "138           121.40       971.4            0.1411             0.2164   \n",
              "434           102.30       777.5            0.1218             0.1550   \n",
              "47            102.80       759.4            0.1786             0.4166   \n",
              "64            111.80       888.3            0.1851             0.4061   \n",
              "\n",
              "     concavity_worst  concave points_worst  symmetry_worst  \\\n",
              "342           0.2299               0.10750          0.3301   \n",
              "138           0.3355               0.16670          0.3414   \n",
              "434           0.1220               0.07971          0.2525   \n",
              "47            0.5006               0.20880          0.3900   \n",
              "64            0.4024               0.17160          0.3383   \n",
              "\n",
              "     fractal_dimension_worst  \n",
              "342                  0.09080  \n",
              "138                  0.07147  \n",
              "434                  0.06827  \n",
              "47                   0.11790  \n",
              "64                   0.10310  \n",
              "\n",
              "[5 rows x 30 columns]"
            ],
            "text/html": [
              "\n",
              "  <div id=\"df-caf62527-b9ba-49e5-9bc2-686dad5d81e2\" class=\"colab-df-container\">\n",
              "    <div>\n",
              "<style scoped>\n",
              "    .dataframe tbody tr th:only-of-type {\n",
              "        vertical-align: middle;\n",
              "    }\n",
              "\n",
              "    .dataframe tbody tr th {\n",
              "        vertical-align: top;\n",
              "    }\n",
              "\n",
              "    .dataframe thead th {\n",
              "        text-align: right;\n",
              "    }\n",
              "</style>\n",
              "<table border=\"1\" class=\"dataframe\">\n",
              "  <thead>\n",
              "    <tr style=\"text-align: right;\">\n",
              "      <th></th>\n",
              "      <th>radius_mean</th>\n",
              "      <th>texture_mean</th>\n",
              "      <th>perimeter_mean</th>\n",
              "      <th>area_mean</th>\n",
              "      <th>smoothness_mean</th>\n",
              "      <th>compactness_mean</th>\n",
              "      <th>concavity_mean</th>\n",
              "      <th>concave points_mean</th>\n",
              "      <th>symmetry_mean</th>\n",
              "      <th>fractal_dimension_mean</th>\n",
              "      <th>...</th>\n",
              "      <th>radius_worst</th>\n",
              "      <th>texture_worst</th>\n",
              "      <th>perimeter_worst</th>\n",
              "      <th>area_worst</th>\n",
              "      <th>smoothness_worst</th>\n",
              "      <th>compactness_worst</th>\n",
              "      <th>concavity_worst</th>\n",
              "      <th>concave points_worst</th>\n",
              "      <th>symmetry_worst</th>\n",
              "      <th>fractal_dimension_worst</th>\n",
              "    </tr>\n",
              "  </thead>\n",
              "  <tbody>\n",
              "    <tr>\n",
              "      <th>342</th>\n",
              "      <td>11.06</td>\n",
              "      <td>14.96</td>\n",
              "      <td>71.49</td>\n",
              "      <td>373.9</td>\n",
              "      <td>0.10330</td>\n",
              "      <td>0.09097</td>\n",
              "      <td>0.05397</td>\n",
              "      <td>0.03341</td>\n",
              "      <td>0.1776</td>\n",
              "      <td>0.06907</td>\n",
              "      <td>...</td>\n",
              "      <td>11.92</td>\n",
              "      <td>19.90</td>\n",
              "      <td>79.76</td>\n",
              "      <td>440.0</td>\n",
              "      <td>0.1418</td>\n",
              "      <td>0.2210</td>\n",
              "      <td>0.2299</td>\n",
              "      <td>0.10750</td>\n",
              "      <td>0.3301</td>\n",
              "      <td>0.09080</td>\n",
              "    </tr>\n",
              "    <tr>\n",
              "      <th>138</th>\n",
              "      <td>14.95</td>\n",
              "      <td>17.57</td>\n",
              "      <td>96.85</td>\n",
              "      <td>678.1</td>\n",
              "      <td>0.11670</td>\n",
              "      <td>0.13050</td>\n",
              "      <td>0.15390</td>\n",
              "      <td>0.08624</td>\n",
              "      <td>0.1957</td>\n",
              "      <td>0.06216</td>\n",
              "      <td>...</td>\n",
              "      <td>18.55</td>\n",
              "      <td>21.43</td>\n",
              "      <td>121.40</td>\n",
              "      <td>971.4</td>\n",
              "      <td>0.1411</td>\n",
              "      <td>0.2164</td>\n",
              "      <td>0.3355</td>\n",
              "      <td>0.16670</td>\n",
              "      <td>0.3414</td>\n",
              "      <td>0.07147</td>\n",
              "    </tr>\n",
              "    <tr>\n",
              "      <th>434</th>\n",
              "      <td>14.86</td>\n",
              "      <td>16.94</td>\n",
              "      <td>94.89</td>\n",
              "      <td>673.7</td>\n",
              "      <td>0.08924</td>\n",
              "      <td>0.07074</td>\n",
              "      <td>0.03346</td>\n",
              "      <td>0.02877</td>\n",
              "      <td>0.1573</td>\n",
              "      <td>0.05703</td>\n",
              "      <td>...</td>\n",
              "      <td>16.31</td>\n",
              "      <td>20.54</td>\n",
              "      <td>102.30</td>\n",
              "      <td>777.5</td>\n",
              "      <td>0.1218</td>\n",
              "      <td>0.1550</td>\n",
              "      <td>0.1220</td>\n",
              "      <td>0.07971</td>\n",
              "      <td>0.2525</td>\n",
              "      <td>0.06827</td>\n",
              "    </tr>\n",
              "    <tr>\n",
              "      <th>47</th>\n",
              "      <td>13.17</td>\n",
              "      <td>18.66</td>\n",
              "      <td>85.98</td>\n",
              "      <td>534.6</td>\n",
              "      <td>0.11580</td>\n",
              "      <td>0.12310</td>\n",
              "      <td>0.12260</td>\n",
              "      <td>0.07340</td>\n",
              "      <td>0.2128</td>\n",
              "      <td>0.06777</td>\n",
              "      <td>...</td>\n",
              "      <td>15.67</td>\n",
              "      <td>27.95</td>\n",
              "      <td>102.80</td>\n",
              "      <td>759.4</td>\n",
              "      <td>0.1786</td>\n",
              "      <td>0.4166</td>\n",
              "      <td>0.5006</td>\n",
              "      <td>0.20880</td>\n",
              "      <td>0.3900</td>\n",
              "      <td>0.11790</td>\n",
              "    </tr>\n",
              "    <tr>\n",
              "      <th>64</th>\n",
              "      <td>12.68</td>\n",
              "      <td>23.84</td>\n",
              "      <td>82.69</td>\n",
              "      <td>499.0</td>\n",
              "      <td>0.11220</td>\n",
              "      <td>0.12620</td>\n",
              "      <td>0.11280</td>\n",
              "      <td>0.06873</td>\n",
              "      <td>0.1905</td>\n",
              "      <td>0.06590</td>\n",
              "      <td>...</td>\n",
              "      <td>17.09</td>\n",
              "      <td>33.47</td>\n",
              "      <td>111.80</td>\n",
              "      <td>888.3</td>\n",
              "      <td>0.1851</td>\n",
              "      <td>0.4061</td>\n",
              "      <td>0.4024</td>\n",
              "      <td>0.17160</td>\n",
              "      <td>0.3383</td>\n",
              "      <td>0.10310</td>\n",
              "    </tr>\n",
              "  </tbody>\n",
              "</table>\n",
              "<p>5 rows × 30 columns</p>\n",
              "</div>\n",
              "    <div class=\"colab-df-buttons\">\n",
              "\n",
              "  <div class=\"colab-df-container\">\n",
              "    <button class=\"colab-df-convert\" onclick=\"convertToInteractive('df-caf62527-b9ba-49e5-9bc2-686dad5d81e2')\"\n",
              "            title=\"Convert this dataframe to an interactive table.\"\n",
              "            style=\"display:none;\">\n",
              "\n",
              "  <svg xmlns=\"http://www.w3.org/2000/svg\" height=\"24px\" viewBox=\"0 -960 960 960\">\n",
              "    <path d=\"M120-120v-720h720v720H120Zm60-500h600v-160H180v160Zm220 220h160v-160H400v160Zm0 220h160v-160H400v160ZM180-400h160v-160H180v160Zm440 0h160v-160H620v160ZM180-180h160v-160H180v160Zm440 0h160v-160H620v160Z\"/>\n",
              "  </svg>\n",
              "    </button>\n",
              "\n",
              "  <style>\n",
              "    .colab-df-container {\n",
              "      display:flex;\n",
              "      gap: 12px;\n",
              "    }\n",
              "\n",
              "    .colab-df-convert {\n",
              "      background-color: #E8F0FE;\n",
              "      border: none;\n",
              "      border-radius: 50%;\n",
              "      cursor: pointer;\n",
              "      display: none;\n",
              "      fill: #1967D2;\n",
              "      height: 32px;\n",
              "      padding: 0 0 0 0;\n",
              "      width: 32px;\n",
              "    }\n",
              "\n",
              "    .colab-df-convert:hover {\n",
              "      background-color: #E2EBFA;\n",
              "      box-shadow: 0px 1px 2px rgba(60, 64, 67, 0.3), 0px 1px 3px 1px rgba(60, 64, 67, 0.15);\n",
              "      fill: #174EA6;\n",
              "    }\n",
              "\n",
              "    .colab-df-buttons div {\n",
              "      margin-bottom: 4px;\n",
              "    }\n",
              "\n",
              "    [theme=dark] .colab-df-convert {\n",
              "      background-color: #3B4455;\n",
              "      fill: #D2E3FC;\n",
              "    }\n",
              "\n",
              "    [theme=dark] .colab-df-convert:hover {\n",
              "      background-color: #434B5C;\n",
              "      box-shadow: 0px 1px 3px 1px rgba(0, 0, 0, 0.15);\n",
              "      filter: drop-shadow(0px 1px 2px rgba(0, 0, 0, 0.3));\n",
              "      fill: #FFFFFF;\n",
              "    }\n",
              "  </style>\n",
              "\n",
              "    <script>\n",
              "      const buttonEl =\n",
              "        document.querySelector('#df-caf62527-b9ba-49e5-9bc2-686dad5d81e2 button.colab-df-convert');\n",
              "      buttonEl.style.display =\n",
              "        google.colab.kernel.accessAllowed ? 'block' : 'none';\n",
              "\n",
              "      async function convertToInteractive(key) {\n",
              "        const element = document.querySelector('#df-caf62527-b9ba-49e5-9bc2-686dad5d81e2');\n",
              "        const dataTable =\n",
              "          await google.colab.kernel.invokeFunction('convertToInteractive',\n",
              "                                                    [key], {});\n",
              "        if (!dataTable) return;\n",
              "\n",
              "        const docLinkHtml = 'Like what you see? Visit the ' +\n",
              "          '<a target=\"_blank\" href=https://colab.research.google.com/notebooks/data_table.ipynb>data table notebook</a>'\n",
              "          + ' to learn more about interactive tables.';\n",
              "        element.innerHTML = '';\n",
              "        dataTable['output_type'] = 'display_data';\n",
              "        await google.colab.output.renderOutput(dataTable, element);\n",
              "        const docLink = document.createElement('div');\n",
              "        docLink.innerHTML = docLinkHtml;\n",
              "        element.appendChild(docLink);\n",
              "      }\n",
              "    </script>\n",
              "  </div>\n",
              "\n",
              "\n",
              "<div id=\"df-936a66e9-73af-41ec-b969-c21b57234ef7\">\n",
              "  <button class=\"colab-df-quickchart\" onclick=\"quickchart('df-936a66e9-73af-41ec-b969-c21b57234ef7')\"\n",
              "            title=\"Suggest charts.\"\n",
              "            style=\"display:none;\">\n",
              "\n",
              "<svg xmlns=\"http://www.w3.org/2000/svg\" height=\"24px\"viewBox=\"0 0 24 24\"\n",
              "     width=\"24px\">\n",
              "    <g>\n",
              "        <path d=\"M19 3H5c-1.1 0-2 .9-2 2v14c0 1.1.9 2 2 2h14c1.1 0 2-.9 2-2V5c0-1.1-.9-2-2-2zM9 17H7v-7h2v7zm4 0h-2V7h2v10zm4 0h-2v-4h2v4z\"/>\n",
              "    </g>\n",
              "</svg>\n",
              "  </button>\n",
              "\n",
              "<style>\n",
              "  .colab-df-quickchart {\n",
              "      --bg-color: #E8F0FE;\n",
              "      --fill-color: #1967D2;\n",
              "      --hover-bg-color: #E2EBFA;\n",
              "      --hover-fill-color: #174EA6;\n",
              "      --disabled-fill-color: #AAA;\n",
              "      --disabled-bg-color: #DDD;\n",
              "  }\n",
              "\n",
              "  [theme=dark] .colab-df-quickchart {\n",
              "      --bg-color: #3B4455;\n",
              "      --fill-color: #D2E3FC;\n",
              "      --hover-bg-color: #434B5C;\n",
              "      --hover-fill-color: #FFFFFF;\n",
              "      --disabled-bg-color: #3B4455;\n",
              "      --disabled-fill-color: #666;\n",
              "  }\n",
              "\n",
              "  .colab-df-quickchart {\n",
              "    background-color: var(--bg-color);\n",
              "    border: none;\n",
              "    border-radius: 50%;\n",
              "    cursor: pointer;\n",
              "    display: none;\n",
              "    fill: var(--fill-color);\n",
              "    height: 32px;\n",
              "    padding: 0;\n",
              "    width: 32px;\n",
              "  }\n",
              "\n",
              "  .colab-df-quickchart:hover {\n",
              "    background-color: var(--hover-bg-color);\n",
              "    box-shadow: 0 1px 2px rgba(60, 64, 67, 0.3), 0 1px 3px 1px rgba(60, 64, 67, 0.15);\n",
              "    fill: var(--button-hover-fill-color);\n",
              "  }\n",
              "\n",
              "  .colab-df-quickchart-complete:disabled,\n",
              "  .colab-df-quickchart-complete:disabled:hover {\n",
              "    background-color: var(--disabled-bg-color);\n",
              "    fill: var(--disabled-fill-color);\n",
              "    box-shadow: none;\n",
              "  }\n",
              "\n",
              "  .colab-df-spinner {\n",
              "    border: 2px solid var(--fill-color);\n",
              "    border-color: transparent;\n",
              "    border-bottom-color: var(--fill-color);\n",
              "    animation:\n",
              "      spin 1s steps(1) infinite;\n",
              "  }\n",
              "\n",
              "  @keyframes spin {\n",
              "    0% {\n",
              "      border-color: transparent;\n",
              "      border-bottom-color: var(--fill-color);\n",
              "      border-left-color: var(--fill-color);\n",
              "    }\n",
              "    20% {\n",
              "      border-color: transparent;\n",
              "      border-left-color: var(--fill-color);\n",
              "      border-top-color: var(--fill-color);\n",
              "    }\n",
              "    30% {\n",
              "      border-color: transparent;\n",
              "      border-left-color: var(--fill-color);\n",
              "      border-top-color: var(--fill-color);\n",
              "      border-right-color: var(--fill-color);\n",
              "    }\n",
              "    40% {\n",
              "      border-color: transparent;\n",
              "      border-right-color: var(--fill-color);\n",
              "      border-top-color: var(--fill-color);\n",
              "    }\n",
              "    60% {\n",
              "      border-color: transparent;\n",
              "      border-right-color: var(--fill-color);\n",
              "    }\n",
              "    80% {\n",
              "      border-color: transparent;\n",
              "      border-right-color: var(--fill-color);\n",
              "      border-bottom-color: var(--fill-color);\n",
              "    }\n",
              "    90% {\n",
              "      border-color: transparent;\n",
              "      border-bottom-color: var(--fill-color);\n",
              "    }\n",
              "  }\n",
              "</style>\n",
              "\n",
              "  <script>\n",
              "    async function quickchart(key) {\n",
              "      const quickchartButtonEl =\n",
              "        document.querySelector('#' + key + ' button');\n",
              "      quickchartButtonEl.disabled = true;  // To prevent multiple clicks.\n",
              "      quickchartButtonEl.classList.add('colab-df-spinner');\n",
              "      try {\n",
              "        const charts = await google.colab.kernel.invokeFunction(\n",
              "            'suggestCharts', [key], {});\n",
              "      } catch (error) {\n",
              "        console.error('Error during call to suggestCharts:', error);\n",
              "      }\n",
              "      quickchartButtonEl.classList.remove('colab-df-spinner');\n",
              "      quickchartButtonEl.classList.add('colab-df-quickchart-complete');\n",
              "    }\n",
              "    (() => {\n",
              "      let quickchartButtonEl =\n",
              "        document.querySelector('#df-936a66e9-73af-41ec-b969-c21b57234ef7 button');\n",
              "      quickchartButtonEl.style.display =\n",
              "        google.colab.kernel.accessAllowed ? 'block' : 'none';\n",
              "    })();\n",
              "  </script>\n",
              "</div>\n",
              "    </div>\n",
              "  </div>\n"
            ]
          },
          "metadata": {},
          "execution_count": 7
        }
      ]
    },
    {
      "cell_type": "code",
      "source": [
        "y_train.head()"
      ],
      "metadata": {
        "colab": {
          "base_uri": "https://localhost:8080/",
          "height": 206
        },
        "id": "IlkHO3umgXnQ",
        "outputId": "9ade0425-0641-4f44-bbd3-2a4a0cd520e5"
      },
      "execution_count": 8,
      "outputs": [
        {
          "output_type": "execute_result",
          "data": {
            "text/plain": [
              "     Diagnosis\n",
              "342          1\n",
              "138          0\n",
              "434          1\n",
              "47           0\n",
              "64           0"
            ],
            "text/html": [
              "\n",
              "  <div id=\"df-67c45799-1250-4b2e-972c-85a61f273be6\" class=\"colab-df-container\">\n",
              "    <div>\n",
              "<style scoped>\n",
              "    .dataframe tbody tr th:only-of-type {\n",
              "        vertical-align: middle;\n",
              "    }\n",
              "\n",
              "    .dataframe tbody tr th {\n",
              "        vertical-align: top;\n",
              "    }\n",
              "\n",
              "    .dataframe thead th {\n",
              "        text-align: right;\n",
              "    }\n",
              "</style>\n",
              "<table border=\"1\" class=\"dataframe\">\n",
              "  <thead>\n",
              "    <tr style=\"text-align: right;\">\n",
              "      <th></th>\n",
              "      <th>Diagnosis</th>\n",
              "    </tr>\n",
              "  </thead>\n",
              "  <tbody>\n",
              "    <tr>\n",
              "      <th>342</th>\n",
              "      <td>1</td>\n",
              "    </tr>\n",
              "    <tr>\n",
              "      <th>138</th>\n",
              "      <td>0</td>\n",
              "    </tr>\n",
              "    <tr>\n",
              "      <th>434</th>\n",
              "      <td>1</td>\n",
              "    </tr>\n",
              "    <tr>\n",
              "      <th>47</th>\n",
              "      <td>0</td>\n",
              "    </tr>\n",
              "    <tr>\n",
              "      <th>64</th>\n",
              "      <td>0</td>\n",
              "    </tr>\n",
              "  </tbody>\n",
              "</table>\n",
              "</div>\n",
              "    <div class=\"colab-df-buttons\">\n",
              "\n",
              "  <div class=\"colab-df-container\">\n",
              "    <button class=\"colab-df-convert\" onclick=\"convertToInteractive('df-67c45799-1250-4b2e-972c-85a61f273be6')\"\n",
              "            title=\"Convert this dataframe to an interactive table.\"\n",
              "            style=\"display:none;\">\n",
              "\n",
              "  <svg xmlns=\"http://www.w3.org/2000/svg\" height=\"24px\" viewBox=\"0 -960 960 960\">\n",
              "    <path d=\"M120-120v-720h720v720H120Zm60-500h600v-160H180v160Zm220 220h160v-160H400v160Zm0 220h160v-160H400v160ZM180-400h160v-160H180v160Zm440 0h160v-160H620v160ZM180-180h160v-160H180v160Zm440 0h160v-160H620v160Z\"/>\n",
              "  </svg>\n",
              "    </button>\n",
              "\n",
              "  <style>\n",
              "    .colab-df-container {\n",
              "      display:flex;\n",
              "      gap: 12px;\n",
              "    }\n",
              "\n",
              "    .colab-df-convert {\n",
              "      background-color: #E8F0FE;\n",
              "      border: none;\n",
              "      border-radius: 50%;\n",
              "      cursor: pointer;\n",
              "      display: none;\n",
              "      fill: #1967D2;\n",
              "      height: 32px;\n",
              "      padding: 0 0 0 0;\n",
              "      width: 32px;\n",
              "    }\n",
              "\n",
              "    .colab-df-convert:hover {\n",
              "      background-color: #E2EBFA;\n",
              "      box-shadow: 0px 1px 2px rgba(60, 64, 67, 0.3), 0px 1px 3px 1px rgba(60, 64, 67, 0.15);\n",
              "      fill: #174EA6;\n",
              "    }\n",
              "\n",
              "    .colab-df-buttons div {\n",
              "      margin-bottom: 4px;\n",
              "    }\n",
              "\n",
              "    [theme=dark] .colab-df-convert {\n",
              "      background-color: #3B4455;\n",
              "      fill: #D2E3FC;\n",
              "    }\n",
              "\n",
              "    [theme=dark] .colab-df-convert:hover {\n",
              "      background-color: #434B5C;\n",
              "      box-shadow: 0px 1px 3px 1px rgba(0, 0, 0, 0.15);\n",
              "      filter: drop-shadow(0px 1px 2px rgba(0, 0, 0, 0.3));\n",
              "      fill: #FFFFFF;\n",
              "    }\n",
              "  </style>\n",
              "\n",
              "    <script>\n",
              "      const buttonEl =\n",
              "        document.querySelector('#df-67c45799-1250-4b2e-972c-85a61f273be6 button.colab-df-convert');\n",
              "      buttonEl.style.display =\n",
              "        google.colab.kernel.accessAllowed ? 'block' : 'none';\n",
              "\n",
              "      async function convertToInteractive(key) {\n",
              "        const element = document.querySelector('#df-67c45799-1250-4b2e-972c-85a61f273be6');\n",
              "        const dataTable =\n",
              "          await google.colab.kernel.invokeFunction('convertToInteractive',\n",
              "                                                    [key], {});\n",
              "        if (!dataTable) return;\n",
              "\n",
              "        const docLinkHtml = 'Like what you see? Visit the ' +\n",
              "          '<a target=\"_blank\" href=https://colab.research.google.com/notebooks/data_table.ipynb>data table notebook</a>'\n",
              "          + ' to learn more about interactive tables.';\n",
              "        element.innerHTML = '';\n",
              "        dataTable['output_type'] = 'display_data';\n",
              "        await google.colab.output.renderOutput(dataTable, element);\n",
              "        const docLink = document.createElement('div');\n",
              "        docLink.innerHTML = docLinkHtml;\n",
              "        element.appendChild(docLink);\n",
              "      }\n",
              "    </script>\n",
              "  </div>\n",
              "\n",
              "\n",
              "<div id=\"df-8b7c7f37-d0d8-43c7-835a-33b863fbe104\">\n",
              "  <button class=\"colab-df-quickchart\" onclick=\"quickchart('df-8b7c7f37-d0d8-43c7-835a-33b863fbe104')\"\n",
              "            title=\"Suggest charts.\"\n",
              "            style=\"display:none;\">\n",
              "\n",
              "<svg xmlns=\"http://www.w3.org/2000/svg\" height=\"24px\"viewBox=\"0 0 24 24\"\n",
              "     width=\"24px\">\n",
              "    <g>\n",
              "        <path d=\"M19 3H5c-1.1 0-2 .9-2 2v14c0 1.1.9 2 2 2h14c1.1 0 2-.9 2-2V5c0-1.1-.9-2-2-2zM9 17H7v-7h2v7zm4 0h-2V7h2v10zm4 0h-2v-4h2v4z\"/>\n",
              "    </g>\n",
              "</svg>\n",
              "  </button>\n",
              "\n",
              "<style>\n",
              "  .colab-df-quickchart {\n",
              "      --bg-color: #E8F0FE;\n",
              "      --fill-color: #1967D2;\n",
              "      --hover-bg-color: #E2EBFA;\n",
              "      --hover-fill-color: #174EA6;\n",
              "      --disabled-fill-color: #AAA;\n",
              "      --disabled-bg-color: #DDD;\n",
              "  }\n",
              "\n",
              "  [theme=dark] .colab-df-quickchart {\n",
              "      --bg-color: #3B4455;\n",
              "      --fill-color: #D2E3FC;\n",
              "      --hover-bg-color: #434B5C;\n",
              "      --hover-fill-color: #FFFFFF;\n",
              "      --disabled-bg-color: #3B4455;\n",
              "      --disabled-fill-color: #666;\n",
              "  }\n",
              "\n",
              "  .colab-df-quickchart {\n",
              "    background-color: var(--bg-color);\n",
              "    border: none;\n",
              "    border-radius: 50%;\n",
              "    cursor: pointer;\n",
              "    display: none;\n",
              "    fill: var(--fill-color);\n",
              "    height: 32px;\n",
              "    padding: 0;\n",
              "    width: 32px;\n",
              "  }\n",
              "\n",
              "  .colab-df-quickchart:hover {\n",
              "    background-color: var(--hover-bg-color);\n",
              "    box-shadow: 0 1px 2px rgba(60, 64, 67, 0.3), 0 1px 3px 1px rgba(60, 64, 67, 0.15);\n",
              "    fill: var(--button-hover-fill-color);\n",
              "  }\n",
              "\n",
              "  .colab-df-quickchart-complete:disabled,\n",
              "  .colab-df-quickchart-complete:disabled:hover {\n",
              "    background-color: var(--disabled-bg-color);\n",
              "    fill: var(--disabled-fill-color);\n",
              "    box-shadow: none;\n",
              "  }\n",
              "\n",
              "  .colab-df-spinner {\n",
              "    border: 2px solid var(--fill-color);\n",
              "    border-color: transparent;\n",
              "    border-bottom-color: var(--fill-color);\n",
              "    animation:\n",
              "      spin 1s steps(1) infinite;\n",
              "  }\n",
              "\n",
              "  @keyframes spin {\n",
              "    0% {\n",
              "      border-color: transparent;\n",
              "      border-bottom-color: var(--fill-color);\n",
              "      border-left-color: var(--fill-color);\n",
              "    }\n",
              "    20% {\n",
              "      border-color: transparent;\n",
              "      border-left-color: var(--fill-color);\n",
              "      border-top-color: var(--fill-color);\n",
              "    }\n",
              "    30% {\n",
              "      border-color: transparent;\n",
              "      border-left-color: var(--fill-color);\n",
              "      border-top-color: var(--fill-color);\n",
              "      border-right-color: var(--fill-color);\n",
              "    }\n",
              "    40% {\n",
              "      border-color: transparent;\n",
              "      border-right-color: var(--fill-color);\n",
              "      border-top-color: var(--fill-color);\n",
              "    }\n",
              "    60% {\n",
              "      border-color: transparent;\n",
              "      border-right-color: var(--fill-color);\n",
              "    }\n",
              "    80% {\n",
              "      border-color: transparent;\n",
              "      border-right-color: var(--fill-color);\n",
              "      border-bottom-color: var(--fill-color);\n",
              "    }\n",
              "    90% {\n",
              "      border-color: transparent;\n",
              "      border-bottom-color: var(--fill-color);\n",
              "    }\n",
              "  }\n",
              "</style>\n",
              "\n",
              "  <script>\n",
              "    async function quickchart(key) {\n",
              "      const quickchartButtonEl =\n",
              "        document.querySelector('#' + key + ' button');\n",
              "      quickchartButtonEl.disabled = true;  // To prevent multiple clicks.\n",
              "      quickchartButtonEl.classList.add('colab-df-spinner');\n",
              "      try {\n",
              "        const charts = await google.colab.kernel.invokeFunction(\n",
              "            'suggestCharts', [key], {});\n",
              "      } catch (error) {\n",
              "        console.error('Error during call to suggestCharts:', error);\n",
              "      }\n",
              "      quickchartButtonEl.classList.remove('colab-df-spinner');\n",
              "      quickchartButtonEl.classList.add('colab-df-quickchart-complete');\n",
              "    }\n",
              "    (() => {\n",
              "      let quickchartButtonEl =\n",
              "        document.querySelector('#df-8b7c7f37-d0d8-43c7-835a-33b863fbe104 button');\n",
              "      quickchartButtonEl.style.display =\n",
              "        google.colab.kernel.accessAllowed ? 'block' : 'none';\n",
              "    })();\n",
              "  </script>\n",
              "</div>\n",
              "    </div>\n",
              "  </div>\n"
            ]
          },
          "metadata": {},
          "execution_count": 8
        }
      ]
    },
    {
      "cell_type": "markdown",
      "source": [
        "# Useful functions"
      ],
      "metadata": {
        "id": "QT3GS9CSRPeh"
      }
    },
    {
      "cell_type": "code",
      "source": [
        "def performance(confusion_matrix):\n",
        "    [[TN, FP] , [FN, TP]] = confusion_matrix.tolist()\n",
        "    P = TP + FN\n",
        "    N = TN + FP\n",
        "    sens = TP / P\n",
        "    spec = TN / N\n",
        "    acc = (TP + TN) / (P + N)\n",
        "    print(f\"Accuracy = {acc}\")\n",
        "    print(f\"Sensitivity = {sens}\")\n",
        "    print(f\"Specificity = {spec}\")\n",
        "    return"
      ],
      "metadata": {
        "id": "uien8xWoRSGN"
      },
      "execution_count": 111,
      "outputs": []
    },
    {
      "cell_type": "markdown",
      "source": [
        "# Andre"
      ],
      "metadata": {
        "id": "KhLmIBUXECzQ"
      }
    },
    {
      "cell_type": "markdown",
      "source": [
        "Structure:\n",
        "- state high correlation (which is expected with variable relation)\n",
        "- consider ratio of diagnoses M vs B\n",
        "- Look at y's spread (boxplot or something more sophisticated like violin plot which may be the most appropriate)\n",
        "- This can lead to conclusion based on bivariate distributions with diagnosis that larger values correlate with getting diagnose as M.\n",
        "- This in turn allows us to evaluate variables that aren't strongly correlated with the outcome. (which are: `'fractal_dimension_mean', 'texture_se', 'smoothness_se', 'symmetry_se', 'fractal_dimension_se'`)\n",
        "- We can test feature relationship with the target variable by using one-way ANOVA (but this may be excessive since visualisation already show significant idications)\n",
        "- There is a lot of difference in terms of the scales of the predictors. (ie the area and perimeter) This requires us to normalise data.\n",
        "- Analyse data... (31 predictors)\n",
        "- This data highly dimensional and highly correlated within predictors\n",
        "- Logistic regression may be used (since there's not much data but a lot of features)\n",
        "- Maybe justify in more details what corrections could be used to improve its predictions\n",
        "- SVC is less sensitive to multicollinearity.\n",
        "\n",
        "\n",
        "\"VIF measures the extent to which each predictor is estimateable by the other predictors, measuring the extent of linear dependence of each predictor by the others. We use the function from statsmodels\""
      ],
      "metadata": {
        "id": "CV8zycqK0Wzq"
      }
    },
    {
      "cell_type": "markdown",
      "source": [
        "### weak predictors"
      ],
      "metadata": {
        "id": "FwyXOxM7r74Y"
      }
    },
    {
      "cell_type": "code",
      "source": [
        "corr = X.corr().iloc[0,][1:]\n",
        "corr[corr < 0.1]\n"
      ],
      "metadata": {
        "colab": {
          "base_uri": "https://localhost:8080/"
        },
        "id": "lGbKxT2Qo-Hl",
        "outputId": "43eefca6-5427-4dee-b281-c3b55bde8599"
      },
      "execution_count": 28,
      "outputs": [
        {
          "output_type": "execute_result",
          "data": {
            "text/plain": [
              "fractal_dimension_mean    -0.311631\n",
              "texture_se                -0.097317\n",
              "smoothness_se             -0.222600\n",
              "symmetry_se               -0.104321\n",
              "fractal_dimension_se      -0.042641\n",
              "fractal_dimension_worst    0.007066\n",
              "Name: radius_mean, dtype: float64"
            ]
          },
          "metadata": {},
          "execution_count": 28
        }
      ]
    },
    {
      "cell_type": "markdown",
      "source": [
        "We can succesfully predict the target using many predictors with very low correlation. If predictors are not too correlated amongst themselves (so that they are not duplicating information too much), they will tend to add information to the regression even if they are individually adding only a small amount of information. With a sufficient number of (individually) weak predictors you can make a prediction of the response variable that is highly accurate. The overall accuracy is somewhat complicated --- in linear regression it depends on the full correlation matrix of the predictors and their individual correlations with the response variable (see O'Neill 2019 for a geometric analysis)."
      ],
      "metadata": {
        "id": "kP6OPY2esVFp"
      }
    },
    {
      "cell_type": "markdown",
      "source": [],
      "metadata": {
        "id": "70payYwStAi1"
      }
    },
    {
      "cell_type": "markdown",
      "source": [
        "### Scale data"
      ],
      "metadata": {
        "id": "HyLz4ccSgMzz"
      }
    },
    {
      "cell_type": "code",
      "source": [
        "from sklearn.preprocessing import StandardScaler\n",
        "scaler = StandardScaler()\n",
        "X_train_scaled = scaler.fit_transform(X_train)\n",
        "X_test_scaled = scaler.transform(X_test)"
      ],
      "metadata": {
        "id": "v00HPvtqI9ei"
      },
      "execution_count": 9,
      "outputs": []
    },
    {
      "cell_type": "markdown",
      "source": [
        "testing scaling on logistic regression"
      ],
      "metadata": {
        "id": "AbzsFx5DguPD"
      }
    },
    {
      "cell_type": "code",
      "source": [
        "from sklearn.linear_model import LogisticRegression\n",
        "lr = LogisticRegression()\n",
        "lr.fit(X_train_scaled, y_train)\n",
        "pred_lr = lr.predict(X_test_scaled)\n",
        "print(classification_report(y_test, pred_lr, target_names=['M', 'B']))"
      ],
      "metadata": {
        "id": "uMtJtb-MEEfu",
        "colab": {
          "base_uri": "https://localhost:8080/"
        },
        "outputId": "3fbfb4bb-94bc-4394-9967-1d2e844b4bb8"
      },
      "execution_count": 31,
      "outputs": [
        {
          "output_type": "stream",
          "name": "stdout",
          "text": [
            "              precision    recall  f1-score   support\n",
            "\n",
            "           M       0.89      1.00      0.94        34\n",
            "           B       1.00      0.95      0.97        80\n",
            "\n",
            "    accuracy                           0.96       114\n",
            "   macro avg       0.95      0.97      0.96       114\n",
            "weighted avg       0.97      0.96      0.97       114\n",
            "\n"
          ]
        },
        {
          "output_type": "stream",
          "name": "stderr",
          "text": [
            "/usr/local/lib/python3.10/dist-packages/sklearn/utils/validation.py:1143: DataConversionWarning: A column-vector y was passed when a 1d array was expected. Please change the shape of y to (n_samples, ), for example using ravel().\n",
            "  y = column_or_1d(y, warn=True)\n"
          ]
        }
      ]
    },
    {
      "cell_type": "markdown",
      "source": [
        "## SMV"
      ],
      "metadata": {
        "id": "Z3NWZnSnEpor"
      }
    },
    {
      "cell_type": "markdown",
      "source": [
        "A Support Vector Machine (SVM) determines the optimal hyperplane to divide classes. It is achieved by maximising the gap between the decision boundary and each class of points. For linear classfier of our two class data we can have infinite many decision boundaries between classes.\n",
        "\n",
        "This algorithm is very efficienta as instead of looking at all the data points, SVM focuses on just a few key ones known as support vectors, which are the data points closest to the dividing line. These support vectors guide SVM in choosing the best possible dividing line.\n",
        "\n",
        "To achieve this, we use an cost function. This function represents the gap between the data points and the dividing line. We strive to maximize this gap, which means we aim to minimize something called hinge loss. Hinge loss measures how far a point is from the dividing line when it's wrongly classified.\n",
        "\n",
        "For our dataset of sample size 569 with 31 numeric predictors without encoding, Support Vector Machine (SVM) is fitting model because:\n",
        "1. SVM is more effective in high dimensional spaces;\n",
        "2. SVM are less likely to overfit to training data as less sensative to outliers than logistic regression;\n",
        "2. SVM is less sensitive to multicollinbearity. In particular we will consider non-linear SVMs.:\n",
        "\n",
        "As well as, all of the disadvantages are avoided as:\n",
        "1. Dataset is not large;\n",
        "2. Number of features for each data point doesn't exceed the number of training data samples ie SVM won't underpreform;\n",
        "3. Data set is not too noisy and target classes are not overlapping."
      ],
      "metadata": {
        "id": "N_dod8Pgjtfp"
      }
    },
    {
      "cell_type": "code",
      "source": [
        "from sklearn.svm import SVC, LinearSVC"
      ],
      "metadata": {
        "id": "Kmo2iP_UxMvx"
      },
      "execution_count": 35,
      "outputs": []
    },
    {
      "cell_type": "markdown",
      "source": [
        "There's two different implmentations of linear svc `LinearSVC` and `SVC(kernel='linear')` which differ based on implementation (ie liblinear and libsvm respectively) [elaborate]\n",
        "\n",
        "\"The main differences between LinearSVC and SVC lie in the loss function used by default, and in the handling of intercept regularization between those two implementations.\" from documentation."
      ],
      "metadata": {
        "id": "6DzH2Ssn_Y44"
      }
    },
    {
      "cell_type": "code",
      "source": [
        "lin_svc = LinearSVC()\n",
        "grid_svc = GridSearchCV(lin_svc, {'C':[1, .1, .01, .001]}, cv=4) # GridSearchCV rely on an internal scoring strategy\n",
        "grid_svc.fit(X_train_scaled, y_train.values.ravel())\n",
        "print(\"Best C:\", grid_svc.best_params_)\n",
        "print(\"Best train score:\", grid_svc.best_score_)"
      ],
      "metadata": {
        "colab": {
          "base_uri": "https://localhost:8080/"
        },
        "id": "-TlOtpjzRf1N",
        "outputId": "b5781cf7-927d-4586-acfd-f5102bec5bb5"
      },
      "execution_count": 114,
      "outputs": [
        {
          "output_type": "stream",
          "name": "stdout",
          "text": [
            "Best C: {'C': 0.01}\n",
            "Best train score: 0.9780119546654247\n"
          ]
        }
      ]
    },
    {
      "cell_type": "markdown",
      "source": [
        "Optimising for the best C parameter and the type of kernel [elaborate on kernels and hyperparam C]"
      ],
      "metadata": {
        "id": "ktbjH_3w-2QM"
      }
    },
    {
      "cell_type": "code",
      "source": [
        "params_svc = {\n",
        "    'C': [1, .1, .01, .001],\n",
        "    'kernel': ['linear', 'poly', 'rbf']\n",
        "}"
      ],
      "metadata": {
        "id": "7cjKP4h4_95H"
      },
      "execution_count": 87,
      "outputs": []
    },
    {
      "cell_type": "markdown",
      "source": [
        "Improve on scoring -> use metric we agreed"
      ],
      "metadata": {
        "id": "gntKF29NSa-5"
      }
    },
    {
      "cell_type": "code",
      "source": [
        "from sklearn.metrics import accuracy_score, make_scorer\n",
        "\n",
        "def calculations(y_test, pred_svc):\n",
        "    [[TN, FP] , [FN, TP]] = confusion_matrix(y_test, pred_best_svc).tolist()\n",
        "    P = TP + FN\n",
        "    N = TN + FP\n",
        "    return P, N, TN, FP, FN, TP\n",
        "\n",
        "def matric_sensitivity(y_test, pred_svc):\n",
        "    [P,_,_,_,_,TP] = calculations(y_test, pred_svc)\n",
        "    return TP / P\n",
        "\n",
        "def matric_specificity(y_test, pred_svc):\n",
        "    [_,N,TN,_,_,_] = calculations(y_test, pred_svc)\n",
        "    return TN / N\n",
        "\n",
        "def matric_accuracy(y_test, pred_svc):\n",
        "    [P,N,TN,_,_,TP] = calculations(y_test, pred_svc)\n",
        "    return (TP + TN) / (P + N)\n",
        "\n",
        "scoring = {\n",
        "    \"Accuracy\": make_scorer(matric_accuracy),\n",
        "    \"Sensitivity\": make_scorer(matric_sensitivity),\n",
        "    \"Specificity\": make_scorer(matric_specificity),\n",
        "}"
      ],
      "metadata": {
        "id": "0hwLagnnTRz2"
      },
      "execution_count": 132,
      "outputs": []
    },
    {
      "cell_type": "code",
      "source": [
        "lin_svc = LinearSVC()\n",
        "grid_svc = GridSearchCV(lin_svc, {'C':[1, .1, .01, .001]}, cv=4, scoring='recall', return_train_score=True)\n",
        "grid_svc.fit(X_train_scaled, y_train.values.ravel())\n",
        "print(\"Best C:\", grid_svc.best_params_)\n",
        "print(\"Best train score:\", grid_svc.best_score_)"
      ],
      "metadata": {
        "colab": {
          "base_uri": "https://localhost:8080/"
        },
        "id": "idlyhiriSgW5",
        "outputId": "769594ad-e36a-4963-e76e-cb8f9d2bd918"
      },
      "execution_count": 142,
      "outputs": [
        {
          "output_type": "stream",
          "name": "stdout",
          "text": [
            "Best C: {'C': 0.01}\n",
            "Best train score: 0.9928053830227743\n"
          ]
        }
      ]
    },
    {
      "cell_type": "code",
      "source": [
        "def gridSearch(scoring):\n",
        "  grid_svc = GridSearchCV(SVC(), params_svc, scoring=scoring, cv=15)\n",
        "  grid_svc.fit(X_train_scaled, y_train.values.ravel())\n",
        "  print(\"Best C:\", grid_svc.best_params_)\n",
        "  print(\"Best train score:\", grid_svc.best_score_)\n",
        "  cv_results = grid_svc.cv_results_\n",
        "\n",
        "  scores_mean = np.array(cv_results['mean_test_score']).reshape(len(params_svc['kernel']),len(params_svc['C']))\n",
        "  scores_sd = np.array(cv_results['std_test_score']).reshape(len(params_svc['kernel']),len(params_svc['C']))\n",
        "\n",
        "  # Plot Grid search scores\n",
        "  _, ax = plt.subplots(1,1)\n",
        "\n",
        "  xaxis = np.log(params_svc['C']) # scale x-axis\n",
        "\n",
        "  # Param1 is the X-axis, Param 2 is represented as a different curve (color line)\n",
        "  for idx, val in enumerate(params_svc['kernel']):\n",
        "      ax.plot(xaxis, scores_mean[idx,:], '-o', label= f'kernel {val}')\n",
        "\n",
        "  plt.xticks(xaxis, params_svc['C'])\n",
        "  ax.set_title(\"Grid Search Scores\")\n",
        "  ax.legend()\n",
        "  # plt.xticks([for x in params_svc[]])\n",
        "  ax.grid('on')\n",
        "  return grid_svc"
      ],
      "metadata": {
        "id": "eHbt9R7S3YWv"
      },
      "execution_count": 147,
      "outputs": []
    },
    {
      "cell_type": "code",
      "source": [
        "grid_svc_acc = gridSearch('accuracy')"
      ],
      "metadata": {
        "colab": {
          "base_uri": "https://localhost:8080/",
          "height": 488
        },
        "id": "asFJMam_Hv4l",
        "outputId": "59474b48-6d4d-42f4-93e2-92ff230ac07d"
      },
      "execution_count": 148,
      "outputs": [
        {
          "output_type": "stream",
          "name": "stdout",
          "text": [
            "Best C: {'C': 0.1, 'kernel': 'linear'}\n",
            "Best train score: 0.9801433691756273\n"
          ]
        },
        {
          "output_type": "display_data",
          "data": {
            "text/plain": [
              "<Figure size 640x480 with 1 Axes>"
            ],
            "image/png": "[encoded data removed]"
          },
          "metadata": {}
        }
      ]
    },
    {
      "cell_type": "code",
      "source": [
        "grid_svc_recall = gridSearch('recall')"
      ],
      "metadata": {
        "colab": {
          "base_uri": "https://localhost:8080/",
          "height": 488
        },
        "id": "cE9BfefSZsMp",
        "outputId": "f144a153-ef81-46dd-c7cf-35e2153765e8"
      },
      "execution_count": 149,
      "outputs": [
        {
          "output_type": "stream",
          "name": "stdout",
          "text": [
            "Best C: {'C': 1, 'kernel': 'poly'}\n",
            "Best train score: 1.0\n"
          ]
        },
        {
          "output_type": "display_data",
          "data": {
            "text/plain": [
              "<Figure size 640x480 with 1 Axes>"
            ],
            "image/png": "[encoded data removed]"
          },
          "metadata": {}
        }
      ]
    },
    {
      "cell_type": "code",
      "source": [
        "grid_svc_precision = gridSearch('precision')"
      ],
      "metadata": {
        "colab": {
          "base_uri": "https://localhost:8080/",
          "height": 488
        },
        "id": "Zm0MRHSRZxY5",
        "outputId": "3aec242e-cc50-47e6-ad46-88a3a8935497"
      },
      "execution_count": 150,
      "outputs": [
        {
          "output_type": "stream",
          "name": "stdout",
          "text": [
            "Best C: {'C': 1, 'kernel': 'linear'}\n",
            "Best train score: 0.9794736842105264\n"
          ]
        },
        {
          "output_type": "display_data",
          "data": {
            "text/plain": [
              "<Figure size 640x480 with 1 Axes>"
            ],
            "image/png": "[encoded data removed]"
          },
          "metadata": {}
        }
      ]
    },
    {
      "cell_type": "markdown",
      "source": [
        "Write up on the results"
      ],
      "metadata": {
        "id": "Yvk619pJZ8ND"
      }
    },
    {
      "cell_type": "markdown",
      "source": [
        "Best score is achieved with linear kernal with `C=0.1`."
      ],
      "metadata": {
        "id": "vxaZ1QM1QlS2"
      }
    },
    {
      "cell_type": "code",
      "source": [
        "best_svc = SVC(**grid_svc.best_params_)\n",
        "best_svc.fit(X_train_scaled, y_train)\n",
        "pred_best_svc = best_svc.predict(X_test)\n",
        "performance(confusion_matrix(y_test, pred_best_svc))\n",
        "print(classification_report(y_test, pred_best_svc, target_names=['M', 'B']))"
      ],
      "metadata": {
        "colab": {
          "base_uri": "https://localhost:8080/"
        },
        "id": "1eY-er0ikj5A",
        "outputId": "2f823041-5e8f-4393-af40-07a66274a6b4"
      },
      "execution_count": 151,
      "outputs": [
        {
          "output_type": "stream",
          "name": "stdout",
          "text": [
            "Accuracy = 0.7017543859649122\n",
            "Sensitivity = 1.0\n",
            "Specificity = 0.0\n",
            "              precision    recall  f1-score   support\n",
            "\n",
            "           M       0.00      0.00      0.00        34\n",
            "           B       0.70      1.00      0.82        80\n",
            "\n",
            "    accuracy                           0.70       114\n",
            "   macro avg       0.35      0.50      0.41       114\n",
            "weighted avg       0.49      0.70      0.58       114\n",
            "\n"
          ]
        },
        {
          "output_type": "stream",
          "name": "stderr",
          "text": [
            "/usr/local/lib/python3.10/dist-packages/sklearn/utils/validation.py:1143: DataConversionWarning: A column-vector y was passed when a 1d array was expected. Please change the shape of y to (n_samples, ), for example using ravel().\n",
            "  y = column_or_1d(y, warn=True)\n",
            "/usr/local/lib/python3.10/dist-packages/sklearn/base.py:432: UserWarning: X has feature names, but SVC was fitted without feature names\n",
            "  warnings.warn(\n",
            "/usr/local/lib/python3.10/dist-packages/sklearn/metrics/_classification.py:1344: UndefinedMetricWarning: Precision and F-score are ill-defined and being set to 0.0 in labels with no predicted samples. Use `zero_division` parameter to control this behavior.\n",
            "  _warn_prf(average, modifier, msg_start, len(result))\n",
            "/usr/local/lib/python3.10/dist-packages/sklearn/metrics/_classification.py:1344: UndefinedMetricWarning: Precision and F-score are ill-defined and being set to 0.0 in labels with no predicted samples. Use `zero_division` parameter to control this behavior.\n",
            "  _warn_prf(average, modifier, msg_start, len(result))\n",
            "/usr/local/lib/python3.10/dist-packages/sklearn/metrics/_classification.py:1344: UndefinedMetricWarning: Precision and F-score are ill-defined and being set to 0.0 in labels with no predicted samples. Use `zero_division` parameter to control this behavior.\n",
            "  _warn_prf(average, modifier, msg_start, len(result))\n"
          ]
        }
      ]
    },
    {
      "cell_type": "code",
      "source": [
        "svc_rbf = SVC()\n",
        "svc_rbf.fit(X_train_scaled, y_train)\n",
        "pred_svc_rbf = svc_rbf.predict(X_test_scaled)\n",
        "print(classification_report(y_test, pred_svc_rbf, target_names=['M', 'B']))"
      ],
      "metadata": {
        "id": "QPPZGknPEt9P",
        "colab": {
          "base_uri": "https://localhost:8080/"
        },
        "outputId": "54ede8df-9034-4aad-ea44-f6a74c05dc9a"
      },
      "execution_count": 152,
      "outputs": [
        {
          "output_type": "stream",
          "name": "stdout",
          "text": [
            "              precision    recall  f1-score   support\n",
            "\n",
            "           M       0.92      1.00      0.96        34\n",
            "           B       1.00      0.96      0.98        80\n",
            "\n",
            "    accuracy                           0.97       114\n",
            "   macro avg       0.96      0.98      0.97       114\n",
            "weighted avg       0.98      0.97      0.97       114\n",
            "\n"
          ]
        },
        {
          "output_type": "stream",
          "name": "stderr",
          "text": [
            "/usr/local/lib/python3.10/dist-packages/sklearn/utils/validation.py:1143: DataConversionWarning: A column-vector y was passed when a 1d array was expected. Please change the shape of y to (n_samples, ), for example using ravel().\n",
            "  y = column_or_1d(y, warn=True)\n"
          ]
        }
      ]
    },
    {
      "cell_type": "markdown",
      "source": [],
      "metadata": {
        "id": "24sXYqJzlG02"
      }
    },
    {
      "cell_type": "code",
      "source": [],
      "metadata": {
        "id": "tHviLAlnlHMv"
      },
      "execution_count": null,
      "outputs": []
    },
    {
      "cell_type": "markdown",
      "source": [
        "# Ethan"
      ],
      "metadata": {
        "id": "Bl7v_BbCEEz3"
      }
    },
    {
      "cell_type": "markdown",
      "source": [
        "\n",
        "\n",
        "*   Do 4 or 5 fold cross-val for hyperparameter optimisation of neural networks\n",
        "*   Hyperparameters include\n",
        "  * Model architecture - number of layers and number of hidden units\n",
        "  * Use of dropout or not\n",
        "  * Use of batch norm or other normalisation techniques\n",
        "  * Different activation functions\n",
        "  * Optimizer and with/without weight decay\n",
        "  * Loss function used\n",
        "  * Regularization\n",
        "\n",
        "* From cross-val, select best parameters for different reasons, retrain on entire training data and hopefully get conducive results, if not will be down to stochasiticity of small dataset\n",
        "\n",
        "Due to 114 test samples, only a fixed number of possible output test accuracies which is why we see exact same accuracies reported\n",
        "\n",
        "Potential conclusion: dataset relatively simple in context of what NNs are used for, so not much need for bigger architectures or extra features to push performance. NNs really for larger more complex data\n",
        "\n",
        "https://gist.github.com/Guitaricet/28fbb2a753b1bb888ef0b2731c03c031"
      ],
      "metadata": {
        "id": "jC_l9EjLUW5R"
      }
    },
    {
      "cell_type": "code",
      "source": [
        "from sklearn.preprocessing import StandardScaler\n",
        "scaler = StandardScaler()\n",
        "X_train_scaled = scaler.fit_transform(X_train)\n",
        "X_test_scaled = scaler.transform(X_test)"
      ],
      "metadata": {
        "id": "veZj3jtWEHCa"
      },
      "execution_count": null,
      "outputs": []
    },
    {
      "cell_type": "code",
      "source": [
        "import torch\n",
        "import torch.nn as nn\n",
        "import torch.optim as optim\n",
        "import torch.nn.functional as F\n",
        "from torch.utils.data import DataLoader, TensorDataset"
      ],
      "metadata": {
        "id": "5A6blJnl0qFW"
      },
      "execution_count": null,
      "outputs": []
    },
    {
      "cell_type": "code",
      "source": [
        "X_train_tensor = torch.tensor(X_train_scaled, dtype=torch.float32)\n",
        "y_train_tensor = torch.tensor(y_train.values, dtype=torch.float32)\n",
        "X_test_tensor = torch.tensor(X_test_scaled, dtype=torch.float32)\n",
        "y_test_tensor = torch.tensor(y_test.values, dtype=torch.float32)"
      ],
      "metadata": {
        "id": "Un6X-wmg04x0"
      },
      "execution_count": null,
      "outputs": []
    },
    {
      "cell_type": "code",
      "source": [
        "from sklearn.model_selection import KFold"
      ],
      "metadata": {
        "id": "zS6fBxD1WMZl"
      },
      "execution_count": null,
      "outputs": []
    },
    {
      "cell_type": "code",
      "source": [
        "def calculate_sensitivity(y_true, y_pred):\n",
        "    true_positive = ((y_pred == 1) & (y_true == 1)).sum().item()\n",
        "    actual_positive = (y_true == 1).sum().item()\n",
        "    sensitivity = true_positive / actual_positive if actual_positive > 0 else 0\n",
        "    return sensitivity"
      ],
      "metadata": {
        "id": "f3TCH_MCZ2b8"
      },
      "execution_count": null,
      "outputs": []
    },
    {
      "cell_type": "code",
      "source": [
        "# Define your neural network model\n",
        "class SimpleNN(nn.Module):\n",
        "    def __init__(self, num_layers, hidden_sizes):\n",
        "        super(SimpleNN, self).__init__()\n",
        "        self.layers = []\n",
        "        prev_layer_size = 30\n",
        "        for i in range(num_layers):\n",
        "            self.layers.append(nn.Linear(prev_layer_size, hidden_sizes[i]))\n",
        "            self.layers.append(nn.ReLU())\n",
        "            prev_layer_size = hidden_sizes[i]\n",
        "        self.layers.append(nn.Linear(prev_layer_size, 1))\n",
        "        self.model = nn.Sequential(*self.layers)\n",
        "\n",
        "    def forward(self, x):\n",
        "        return torch.sigmoid(self.model(x))"
      ],
      "metadata": {
        "id": "xic4_DOtXt1l"
      },
      "execution_count": null,
      "outputs": []
    },
    {
      "cell_type": "code",
      "source": [
        "fix_seed()\n",
        "kf = KFold(n_splits=5, shuffle=True, random_state=42)\n",
        "for train_index, val_index in kf.split(X_train_tensor):\n",
        "\n",
        "  X_train_cv, X_val_cv = X_train_tensor[train_index], X_train_tensor[val_index]\n",
        "  y_train_cv, y_val_cv = y_train_tensor[train_index], y_train_tensor[val_index]\n",
        "\n",
        "  model = SimpleNN(1, [4])\n",
        "\n",
        "  criterion = nn.BCELoss()\n",
        "  optimizer = optim.Adam(model.parameters(), lr=0.001)\n",
        "\n",
        "  best_sensitivity = 0\n",
        "  best_epoch = 0\n",
        "\n",
        "  for epoch in range(500):\n",
        "    model.train()\n",
        "    optimizer.zero_grad()\n",
        "\n",
        "    output = model(X_train_cv)\n",
        "    loss = criterion(output, y_train_cv.view(-1,1))\n",
        "\n",
        "    loss.backward()\n",
        "    optimizer.step()\n",
        "\n",
        "    with torch.no_grad():\n",
        "      val_output = model(X_val_cv)\n",
        "      val_loss = criterion(val_output, y_val_cv.view(-1, 1))\n",
        "      predicted_labels = (val_output > 0.5).float()\n",
        "      # val_acc = (predicted_labels == y_val_cv.view(-1, 1)).float().mean()\n",
        "      # if val_acc >= best_sensitivity:\n",
        "      #   best_sensitivity = val_acc\n",
        "      #   best_epoch = epoch\n",
        "      sensitivity = calculate_sensitivity(y_val_cv, predicted_labels)\n",
        "      if sensitivity > best_sensitivity:\n",
        "        best_sensitivity = sensitivity\n",
        "        best_epoch = epoch\n",
        "\n",
        "  print(best_sensitivity, best_epoch)\n",
        "  print(sensitivity, epoch)"
      ],
      "metadata": {
        "colab": {
          "base_uri": "https://localhost:8080/"
        },
        "id": "Uau5bg2pWpt-",
        "outputId": "e7041273-e345-40d5-841b-b7fcd6d1e7d3"
      },
      "execution_count": null,
      "outputs": [
        {
          "output_type": "stream",
          "name": "stdout",
          "text": [
            "1.0 25\n",
            "1.0 499\n",
            "0.9245283018867925 406\n",
            "0.9245283018867925 499\n",
            "0.9821428571428571 114\n",
            "0.9642857142857143 499\n",
            "0.9259259259259259 443\n",
            "0.9259259259259259 499\n",
            "0.9622641509433962 383\n",
            "0.9622641509433962 499\n"
          ]
        }
      ]
    },
    {
      "cell_type": "markdown",
      "source": [
        "Trying to tune epochs as a hyperparameter does not really work, as we find that it is highly dependent on the specific data split - one such split may get very lucky in producing quicker convergence, this does not tell us much about how a different split may behave. So let us train for a fixed number of epochs going forward, say 500, and investigate different changes to the model."
      ],
      "metadata": {
        "id": "plURcIoHcQZ9"
      }
    },
    {
      "cell_type": "code",
      "source": [
        "num_layers = [2, 3, 5]\n",
        "hidden_sizes_lists = [[4]*n for n in num_layers]"
      ],
      "metadata": {
        "colab": {
          "base_uri": "https://localhost:8080/"
        },
        "id": "9ti36PJJcP06",
        "outputId": "244b74bf-61ba-4608-b839-a364f8f4dd10"
      },
      "execution_count": null,
      "outputs": [
        {
          "output_type": "execute_result",
          "data": {
            "text/plain": [
              "[[4, 4], [4, 4, 4], [4, 4, 4, 4, 4]]"
            ]
          },
          "metadata": {},
          "execution_count": 55
        }
      ]
    },
    {
      "cell_type": "code",
      "source": [
        "for n, hidden_sizes in zip(num_layers, hidden_sizes_lists):\n",
        "  print(n, hidden_sizes)\n",
        "  fix_seed()\n",
        "  kf = KFold(n_splits=5, shuffle=True, random_state=42)\n",
        "  for train_index, val_index in kf.split(X_train_tensor):\n",
        "\n",
        "    X_train_cv, X_val_cv = X_train_tensor[train_index], X_train_tensor[val_index]\n",
        "    y_train_cv, y_val_cv = y_train_tensor[train_index], y_train_tensor[val_index]\n",
        "\n",
        "    model = SimpleNN(n, hidden_sizes)\n",
        "\n",
        "    criterion = nn.BCELoss()\n",
        "    optimizer = optim.Adam(model.parameters(), lr=0.001)\n",
        "\n",
        "    best_sensitivity = 0\n",
        "    best_epoch = 0\n",
        "\n",
        "    for epoch in range(500):\n",
        "      model.train()\n",
        "      optimizer.zero_grad()\n",
        "\n",
        "      output = model(X_train_cv)\n",
        "      loss = criterion(output, y_train_cv.view(-1,1))\n",
        "\n",
        "      loss.backward()\n",
        "      optimizer.step()\n",
        "\n",
        "    with torch.no_grad():\n",
        "      val_output = model(X_val_cv)\n",
        "      val_loss = criterion(val_output, y_val_cv.view(-1, 1))\n",
        "      predicted_labels = (val_output > 0.5).float()\n",
        "      # val_acc = (predicted_labels == y_val_cv.view(-1, 1)).float().mean()\n",
        "      # if val_acc >= best_sensitivity:\n",
        "      #   best_sensitivity = val_acc\n",
        "      #   best_epoch = epoch\n",
        "      sensitivity = calculate_sensitivity(y_val_cv, predicted_labels)\n",
        "      if sensitivity > best_sensitivity:\n",
        "        best_sensitivity = sensitivity\n",
        "        best_epoch = epoch\n",
        "\n",
        "    print(best_sensitivity, best_epoch)\n",
        "    #print(sensitivity, epoch)"
      ],
      "metadata": {
        "colab": {
          "base_uri": "https://localhost:8080/"
        },
        "id": "FsCIy3sUedUJ",
        "outputId": "60c3eadf-3f7c-4b69-9fca-80857bc646dd"
      },
      "execution_count": null,
      "outputs": [
        {
          "output_type": "stream",
          "name": "stdout",
          "text": [
            "2 [4, 4]\n",
            "1.0 499\n",
            "0.9811320754716981 499\n",
            "0.9642857142857143 499\n",
            "1.0 499\n",
            "0.9811320754716981 499\n",
            "3 [4, 4, 4]\n",
            "1.0 499\n",
            "0.9811320754716981 499\n",
            "0.9821428571428571 499\n",
            "0.9814814814814815 499\n",
            "0.9811320754716981 499\n",
            "5 [4, 4, 4, 4, 4]\n",
            "1.0 499\n",
            "1.0 499\n",
            "0.9642857142857143 499\n",
            "0.9814814814814815 499\n",
            "1.0 499\n"
          ]
        }
      ]
    },
    {
      "cell_type": "code",
      "source": [
        "type(y_train)"
      ],
      "metadata": {
        "colab": {
          "base_uri": "https://localhost:8080/"
        },
        "id": "Nv4l1--a0-3N",
        "outputId": "f2da3faa-adfa-4dd2-d663-7574f3aa5f2f"
      },
      "execution_count": null,
      "outputs": [
        {
          "output_type": "execute_result",
          "data": {
            "text/plain": [
              "pandas.core.frame.DataFrame"
            ]
          },
          "metadata": {},
          "execution_count": 16
        }
      ]
    },
    {
      "cell_type": "code",
      "source": [
        "i=4\n",
        "plt.imshow(X_train_tensor[i].reshape((3,10)))\n",
        "print(y_train_tensor[i])"
      ],
      "metadata": {
        "colab": {
          "base_uri": "https://localhost:8080/",
          "height": 226
        },
        "id": "uSf8Mv3UKwEK",
        "outputId": "389d2ee7-9675-45f0-aba5-f0f459f76939"
      },
      "execution_count": null,
      "outputs": [
        {
          "output_type": "stream",
          "name": "stdout",
          "text": [
            "tensor([0.])\n"
          ]
        },
        {
          "output_type": "display_data",
          "data": {
            "text/plain": [
              "<Figure size 640x480 with 1 Axes>"
            ],
            "image/png": "[encoded data removed]"
          },
          "metadata": {}
        }
      ]
    },
    {
      "cell_type": "code",
      "source": [],
      "metadata": {
        "id": "xbXm1MteLJTW"
      },
      "execution_count": null,
      "outputs": []
    },
    {
      "cell_type": "code",
      "source": [
        "import torch\n",
        "import random\n",
        "import numpy as np\n",
        "\n",
        "def fix_seed():\n",
        "\n",
        "  # Set seeds for reproducibility\n",
        "  seed_value = 42\n",
        "\n",
        "  # 1. Set the seed for Python's built-in random number generator\n",
        "  random.seed(seed_value)\n",
        "\n",
        "  # 2. Set the seed for NumPy\n",
        "  np.random.seed(seed_value)\n",
        "\n",
        "  # 3. Set the seed for PyTorch\n",
        "  torch.manual_seed(seed_value)\n",
        "  torch.cuda.manual_seed(seed_value)\n",
        "  torch.cuda.manual_seed_all(seed_value)  # if using multiple GPUs\n",
        "  torch.backends.cudnn.deterministic = True\n",
        "  torch.backends.cudnn.benchmark = False"
      ],
      "metadata": {
        "id": "8fL26nAi3u58"
      },
      "execution_count": null,
      "outputs": []
    },
    {
      "cell_type": "code",
      "source": [
        "fix_seed()\n",
        "\n",
        "class Net(nn.Module):\n",
        "    def __init__(self):\n",
        "        super(Net, self).__init__()\n",
        "        h = 32\n",
        "        self.fc1 = nn.Linear(X_train.shape[1], h)\n",
        "        self.fc2 = nn.Linear(h, 1)\n",
        "\n",
        "    def forward(self, x):\n",
        "        x = F.relu(self.fc1(x))\n",
        "        x = torch.sigmoid(self.fc2(x))\n",
        "        return x\n",
        "\n",
        "# Initialize the model\n",
        "model = Net()\n",
        "\n",
        "# Define the loss function and optimizer\n",
        "criterion = nn.BCELoss()\n",
        "optimizer = optim.Adam(model.parameters(), lr=0.001)\n",
        "\n",
        "# Training the model\n",
        "epochs = 350\n",
        "for epoch in range(epochs):\n",
        "    model.train()\n",
        "    optimizer.zero_grad()\n",
        "    output = model(X_train_tensor)\n",
        "    loss = criterion(output, y_train_tensor.view(-1, 1))\n",
        "    loss.backward()\n",
        "    optimizer.step()\n",
        "\n",
        "# Evaluate the model on the test data\n",
        "model.eval()\n",
        "with torch.no_grad():\n",
        "    test_output = model(X_test_tensor)\n",
        "    test_loss = criterion(test_output, y_test_tensor.view(-1, 1))\n",
        "    predicted_labels = (test_output > 0.5).float()\n",
        "    test_acc = (predicted_labels == y_test_tensor.view(-1, 1)).float().mean()\n",
        "\n",
        "print(f'Test accuracy: {test_acc.item()}')"
      ],
      "metadata": {
        "colab": {
          "base_uri": "https://localhost:8080/"
        },
        "id": "ShS5kGIp1Qbm",
        "outputId": "5221262d-f32a-46b9-e038-8d1907706d23"
      },
      "execution_count": null,
      "outputs": [
        {
          "output_type": "stream",
          "name": "stdout",
          "text": [
            "Test accuracy: 0.9736841917037964\n"
          ]
        }
      ]
    },
    {
      "cell_type": "code",
      "source": [
        "108/114"
      ],
      "metadata": {
        "colab": {
          "base_uri": "https://localhost:8080/"
        },
        "id": "_NeiaCxcShLQ",
        "outputId": "d936aebe-0015-4ce2-b272-c53ebe04bfb6"
      },
      "execution_count": null,
      "outputs": [
        {
          "output_type": "execute_result",
          "data": {
            "text/plain": [
              "0.9473684210526315"
            ]
          },
          "metadata": {},
          "execution_count": 174
        }
      ]
    },
    {
      "cell_type": "code",
      "source": [
        "y_test_tensor.shape"
      ],
      "metadata": {
        "colab": {
          "base_uri": "https://localhost:8080/"
        },
        "id": "vDwfjNhmSa4V",
        "outputId": "15938c06-a714-4dc0-dcad-6c4f93675524"
      },
      "execution_count": null,
      "outputs": [
        {
          "output_type": "execute_result",
          "data": {
            "text/plain": [
              "torch.Size([114, 1])"
            ]
          },
          "metadata": {},
          "execution_count": 172
        }
      ]
    },
    {
      "cell_type": "code",
      "source": [
        "fix_seed()\n",
        "\n",
        "# Define the neural network model with dropout\n",
        "class NetWithDropout(nn.Module):\n",
        "    def __init__(self):\n",
        "        super(NetWithDropout, self).__init__()\n",
        "        self.fc1 = nn.Linear(X_train.shape[1], 32)\n",
        "        self.dropout = nn.Dropout(0)  # Adjust dropout rate as needed\n",
        "        self.fc2 = nn.Linear(32, 1)\n",
        "\n",
        "    def forward(self, x):\n",
        "        x = F.relu(self.fc1(x))\n",
        "        x = self.dropout(x)  # Apply dropout\n",
        "        x = torch.sigmoid(self.fc2(x))\n",
        "        return x\n",
        "\n",
        "# Initialize the model\n",
        "model_with_dropout = NetWithDropout()\n",
        "\n",
        "# Define the loss function and optimizer\n",
        "criterion = nn.BCELoss()\n",
        "optimizer = optim.Adam(model_with_dropout.parameters(), lr=0.001)\n",
        "\n",
        "# Training the model with dropout\n",
        "epochs = 100\n",
        "for epoch in range(epochs):\n",
        "    model_with_dropout.train()\n",
        "    optimizer.zero_grad()\n",
        "    output = model_with_dropout(X_train_tensor)\n",
        "    loss = criterion(output, y_train_tensor.view(-1, 1))\n",
        "    loss.backward()\n",
        "    optimizer.step()\n",
        "\n",
        "# Evaluate the model with dropout on the test data\n",
        "model_with_dropout.eval()\n",
        "with torch.no_grad():\n",
        "    test_output = model_with_dropout(X_test_tensor)\n",
        "    test_loss = criterion(test_output, y_test_tensor.view(-1, 1))\n",
        "    predicted_labels = (test_output > 0.5).float()\n",
        "    test_acc = (predicted_labels == y_test_tensor.view(-1, 1)).float().mean()\n",
        "\n",
        "print(f'Test accuracy with dropout: {test_acc.item()}')"
      ],
      "metadata": {
        "colab": {
          "base_uri": "https://localhost:8080/"
        },
        "id": "u4FNOQ5f1djS",
        "outputId": "8b095a92-13aa-4e93-acc3-1d9c59f75734"
      },
      "execution_count": null,
      "outputs": [
        {
          "output_type": "stream",
          "name": "stdout",
          "text": [
            "Test accuracy with dropout: 0.9473684430122375\n"
          ]
        }
      ]
    },
    {
      "cell_type": "code",
      "source": [
        "fix_seed()\n",
        "\n",
        "# Define the neural network model with dropout and batch normalization\n",
        "class NetWithDropoutBN(nn.Module):\n",
        "    def __init__(self):\n",
        "        super(NetWithDropoutBN, self).__init__()\n",
        "        self.fc1 = nn.Linear(X_train.shape[1], 32)\n",
        "        self.bn1 = nn.BatchNorm1d(32)  # Batch normalization after the first fully connected layer\n",
        "        #self.dropout = nn.Dropout(0.5)  # Adjust dropout rate as needed\n",
        "        self.fc2 = nn.Linear(32, 1)\n",
        "\n",
        "    def forward(self, x):\n",
        "        x = F.relu(self.bn1(self.fc1(x)))  # Apply batch normalization before activation\n",
        "        #x = self.dropout(x)  # Apply dropout\n",
        "        x = torch.sigmoid(self.fc2(x))\n",
        "        return x\n",
        "\n",
        "# Initialize the model with dropout and batch normalization\n",
        "model_with_dropout_bn = NetWithDropoutBN()\n",
        "\n",
        "# Define the loss function and optimizer\n",
        "criterion = nn.BCELoss()\n",
        "optimizer = optim.Adam(model_with_dropout_bn.parameters(), lr=0.001)\n",
        "\n",
        "# Training the model with dropout and batch normalization\n",
        "epochs = 100\n",
        "for epoch in range(epochs):\n",
        "    model_with_dropout_bn.train()\n",
        "    optimizer.zero_grad()\n",
        "    output = model_with_dropout_bn(X_train_tensor)\n",
        "    loss = criterion(output, y_train_tensor.view(-1, 1))\n",
        "    loss.backward()\n",
        "    optimizer.step()\n",
        "\n",
        "# Evaluate the model with dropout and batch normalization on the test data\n",
        "model_with_dropout_bn.eval()\n",
        "with torch.no_grad():\n",
        "    test_output = model_with_dropout_bn(X_test_tensor)\n",
        "    test_loss = criterion(test_output, y_test_tensor.view(-1, 1))\n",
        "    predicted_labels = (test_output > 0.5).float()\n",
        "    test_acc = (predicted_labels == y_test_tensor.view(-1, 1)).float().mean()\n",
        "\n",
        "print(f'Test accuracy with dropout and batch normalization: {test_acc.item()}')"
      ],
      "metadata": {
        "colab": {
          "base_uri": "https://localhost:8080/"
        },
        "id": "LMJp2jDV2f5m",
        "outputId": "683d815d-ecf6-41e2-813a-18857f99a7da"
      },
      "execution_count": null,
      "outputs": [
        {
          "output_type": "stream",
          "name": "stdout",
          "text": [
            "Test accuracy with dropout and batch normalization: 0.9649122953414917\n"
          ]
        }
      ]
    },
    {
      "cell_type": "code",
      "source": [
        "fix_seed()\n",
        "\n",
        "# Define the neural network model with more layers\n",
        "class NetWithMoreLayers(nn.Module):\n",
        "    def __init__(self):\n",
        "        super(NetWithMoreLayers, self).__init__()\n",
        "        self.fc1 = nn.Linear(X_train.shape[1], 64)\n",
        "        self.fc2 = nn.Linear(64, 32)\n",
        "        self.fc3 = nn.Linear(32, 16)\n",
        "        self.fc4 = nn.Linear(16, 1)\n",
        "\n",
        "    def forward(self, x):\n",
        "        x = F.relu(self.fc1(x))\n",
        "        x = F.relu(self.fc2(x))\n",
        "        x = F.relu(self.fc3(x))\n",
        "        x = torch.sigmoid(self.fc4(x))\n",
        "        return x\n",
        "\n",
        "# Initialize the model with more layers\n",
        "model_with_more_layers = NetWithMoreLayers()\n",
        "\n",
        "# Define the loss function and optimizer\n",
        "criterion = nn.BCELoss()\n",
        "optimizer = optim.Adam(model_with_more_layers.parameters(), lr=0.001)\n",
        "\n",
        "# Training the model with more layers\n",
        "epochs = 500\n",
        "for epoch in range(epochs):\n",
        "    model_with_more_layers.train()\n",
        "    optimizer.zero_grad()\n",
        "    output = model_with_more_layers(X_train_tensor)\n",
        "    loss = criterion(output, y_train_tensor.view(-1, 1))\n",
        "    loss.backward()\n",
        "    optimizer.step()\n",
        "\n",
        "\n",
        "model_with_more_layers.eval()\n",
        "with torch.no_grad():\n",
        "    test_output = model_with_more_layers(X_test_tensor)\n",
        "    test_loss = criterion(test_output, y_test_tensor.view(-1, 1))\n",
        "    predicted_labels = (test_output > 0.5).float()\n",
        "    test_acc = (predicted_labels == y_test_tensor.view(-1, 1)).float().mean()\n",
        "\n",
        "print(f'Test accuracy with more layers: {test_acc.item()}')"
      ],
      "metadata": {
        "colab": {
          "base_uri": "https://localhost:8080/"
        },
        "id": "955jYw5v5E1j",
        "outputId": "cf5417f4-0736-4b63-d49f-50048799fccc"
      },
      "execution_count": null,
      "outputs": [
        {
          "output_type": "stream",
          "name": "stdout",
          "text": [
            "Test accuracy with more layers: 0.9824561476707458\n"
          ]
        }
      ]
    },
    {
      "cell_type": "code",
      "source": [
        "fix_seed()\n",
        "\n",
        "# Define the neural network model with more layers and L2 regularization\n",
        "class NetWithRegularization(nn.Module):\n",
        "    def __init__(self):\n",
        "        super(NetWithRegularization, self).__init__()\n",
        "        self.fc1 = nn.Linear(X_train.shape[1], 64)\n",
        "        self.fc2 = nn.Linear(64, 32)\n",
        "        self.fc3 = nn.Linear(32, 16)\n",
        "        self.fc4 = nn.Linear(16, 1)\n",
        "\n",
        "    def forward(self, x):\n",
        "        x = F.relu(self.fc1(x))\n",
        "        x = F.relu(self.fc2(x))\n",
        "        x = F.relu(self.fc3(x))\n",
        "        x = torch.sigmoid(self.fc4(x))\n",
        "        return x\n",
        "\n",
        "# Initialize the model with L2 regularization\n",
        "model_with_regularization = NetWithRegularization()\n",
        "\n",
        "# Define the loss function and optimizer with L2 regularization\n",
        "criterion = nn.BCELoss()\n",
        "optimizer = optim.Adam(model_with_regularization.parameters(), lr=0.001)  # Adjust weight decay as needed\n",
        "\n",
        "# Training the model with L2 regularization\n",
        "epochs = 300\n",
        "for epoch in range(epochs):\n",
        "    model_with_regularization.train()\n",
        "    optimizer.zero_grad()\n",
        "    output = model_with_regularization(X_train_tensor)\n",
        "    loss = criterion(output, y_train_tensor.view(-1, 1))\n",
        "\n",
        "    # Add L2 regularization to the loss\n",
        "    l2_lambda = 0.01  # Adjust the regularization strength\n",
        "    l2_reg = torch.tensor(0.)\n",
        "    for param in model_with_regularization.parameters():\n",
        "        l2_reg += torch.norm(param)\n",
        "    loss += l2_lambda * l2_reg\n",
        "\n",
        "    loss.backward()\n",
        "    optimizer.step()\n",
        "\n",
        "# Evaluate the model with L2 regularization on the test data\n",
        "model_with_regularization.eval()\n",
        "with torch.no_grad():\n",
        "    test_output = model_with_regularization(X_test_tensor)\n",
        "    test_loss = criterion(test_output, y_test_tensor.view(-1, 1))\n",
        "    predicted_labels = (test_output > 0.5).float()\n",
        "    test_acc = (predicted_labels == y_test_tensor.view(-1, 1)).float().mean()\n",
        "\n",
        "print(f'Test accuracy with L2 regularization: {test_acc.item()}')"
      ],
      "metadata": {
        "colab": {
          "base_uri": "https://localhost:8080/"
        },
        "id": "lWGFE9eTGhBF",
        "outputId": "574433ae-0aca-4dd4-a0e0-414357f24da8"
      },
      "execution_count": null,
      "outputs": [
        {
          "output_type": "stream",
          "name": "stdout",
          "text": [
            "Test accuracy with L2 regularization: 0.9912280440330505\n"
          ]
        }
      ]
    },
    {
      "cell_type": "markdown",
      "source": [
        "#Josh"
      ],
      "metadata": {
        "id": "Kofgwl_mEHSI"
      }
    },
    {
      "cell_type": "markdown",
      "source": [
        "Here we create a scaled version of the data. We do this to compare model performance with scaled versus raw data.\n",
        "\n"
      ],
      "metadata": {
        "id": "pRUQhWe3TS11"
      }
    },
    {
      "cell_type": "code",
      "source": [
        "from sklearn.preprocessing import StandardScaler\n",
        "scaler = StandardScaler()\n",
        "X_train_scaled = scaler.fit_transform(X_train)\n",
        "X_test_scaled = scaler.transform(X_test)"
      ],
      "metadata": {
        "id": "4q_Hv5k8EVw4"
      },
      "execution_count": null,
      "outputs": []
    },
    {
      "cell_type": "markdown",
      "source": [
        "I would like to see if there are any features which show a high correlation to the Diagnonsis target variable. To do so we conbtruct a correlation heatmap and select the diagnonsis column"
      ],
      "metadata": {
        "id": "Cyw36u7qTX_3"
      }
    },
    {
      "cell_type": "code",
      "source": [
        "data = pd.concat([X , y] , axis = 1)\n",
        "corr = data.corr()\n",
        "corr.style.background_gradient(cmap='coolwarm')"
      ],
      "metadata": {
        "id": "9Q2elibhTcBn"
      },
      "execution_count": null,
      "outputs": []
    },
    {
      "cell_type": "code",
      "source": [
        "cor_target = abs(corr[\"Diagnosis\"])\n",
        "relevant_features = abs(corr[\"Diagnosis\"]).sort_values(ascending=False).drop('Diagnosis')\n",
        "print('A sorted list of the correlation between each variable and the target variable')\n",
        "print(relevant_features)"
      ],
      "metadata": {
        "id": "zNrRs1eiTfEo"
      },
      "execution_count": null,
      "outputs": []
    },
    {
      "cell_type": "markdown",
      "source": [
        "We select all features with a high correlation to the target variable (>0.5)."
      ],
      "metadata": {
        "id": "vT1Y-0sKTber"
      }
    },
    {
      "cell_type": "code",
      "source": [
        "ten_relevant_features = relevant_features[0:15]\n",
        "names = ten_relevant_features.keys()\n",
        "print('A sorted list of the variables with >0.5 correlation')\n",
        "print(ten_relevant_features)"
      ],
      "metadata": {
        "id": "xAWUf0p0Tlmq"
      },
      "execution_count": null,
      "outputs": []
    },
    {
      "cell_type": "markdown",
      "source": [
        "We would like to further remove variables with high correlation between themselves as we assume they contain similar information."
      ],
      "metadata": {
        "id": "ZR_vCaSgTo3i"
      }
    },
    {
      "cell_type": "code",
      "source": [
        "X_relevant = X[names]\n",
        "corr2 = X_relevant.corr()\n",
        "corr2.style.background_gradient(cmap='coolwarm')"
      ],
      "metadata": {
        "id": "quN3b4bYTrS_"
      },
      "execution_count": null,
      "outputs": []
    },
    {
      "cell_type": "markdown",
      "source": [
        "From the above heatmap, we decide to replace :\n",
        "\n",
        "\n",
        "\n",
        "*   radius_worst, perimeter_mean, area_worst, radius_mean, area_mean with radius_worst\n",
        "*   radius_se, perimeter_se, area_se with radius_se\n",
        "\n",
        "We do this as they share high correlation with each other and radius_worst and radius_se have the best correlation with the target within these groups."
      ],
      "metadata": {
        "id": "0FEpR3R6TuGf"
      }
    },
    {
      "cell_type": "code",
      "source": [
        "def performanceJ(confusion_matrix):\n",
        "    [[TN, FP] , [FN, TP]] = confusion_matrix.tolist()\n",
        "    P = TP + FN\n",
        "    N = TN + FP\n",
        "    sens = TP / P\n",
        "    spec = TN / N\n",
        "    acc = (TP + TN) / (P + N)\n",
        "    accurancy =  str(acc)\n",
        "    sensitivity =  str(sens)\n",
        "    specificity =  str(spec)\n",
        "    return accurancy, sensitivity,specificity"
      ],
      "metadata": {
        "id": "nWo24PujT5N3"
      },
      "execution_count": null,
      "outputs": []
    },
    {
      "cell_type": "markdown",
      "source": [
        "Above we introduce a performance calculator, we are looking to find the best sensitivity. We include accuracy and specificity for interest."
      ],
      "metadata": {
        "id": "vRCnq2hMUC4i"
      }
    },
    {
      "cell_type": "code",
      "source": [
        "X_relevant_dropped = X_relevant.drop(columns=['perimeter_mean','area_worst','radius_mean','area_mean'])"
      ],
      "metadata": {
        "id": "3P5Kz-EgUIpp"
      },
      "execution_count": null,
      "outputs": []
    },
    {
      "cell_type": "markdown",
      "source": [
        "Below we create 6 models. Basic decision trees and random forests with both scaled and uncscaled data, and a decision tree with optimal parameters."
      ],
      "metadata": {
        "id": "RSDTO2I7UNGn"
      }
    },
    {
      "cell_type": "code",
      "source": [
        "from sklearn.tree import DecisionTreeClassifier\n",
        "model = DecisionTreeClassifier()\n",
        "model.fit(X_train, y_train)\n",
        "predictions = model.predict(X_test)\n",
        "cm = confusion_matrix(y_test, predictions)\n",
        "print(cm)\n",
        "perf_cm =performance(cm)"
      ],
      "metadata": {
        "id": "3Z8gUrevUQu3"
      },
      "execution_count": null,
      "outputs": []
    },
    {
      "cell_type": "markdown",
      "source": [
        "Above is the most basic Decision tree we can make. We will use this to swet a 'base-line' we hope to improve."
      ],
      "metadata": {
        "id": "QFLRe1fMUP6h"
      }
    },
    {
      "cell_type": "code",
      "source": [
        "model_sc = DecisionTreeClassifier()\n",
        "model_sc.fit(X_train_scaled, y_train)\n",
        "predictions_sc = model_sc.predict(X_test_scaled)\n",
        "cm_sc = confusion_matrix(y_test, predictions_sc)\n",
        "print(cm_sc)\n",
        "perf_sc = performance(cm_sc)"
      ],
      "metadata": {
        "id": "YytpUxI6UU-F"
      },
      "execution_count": null,
      "outputs": []
    },
    {
      "cell_type": "markdown",
      "source": [
        "A common technique for improving model performance is to scale the data. This is because data on different scales can affect models on different scales. Thus by normalising the features we hope to be able to extract more information from features which vary less."
      ],
      "metadata": {
        "id": "OQ2QxqtWUWkS"
      }
    },
    {
      "cell_type": "code",
      "source": [
        "model_rf = RandomForestClassifier()\n",
        "model_rf.fit(X_train, y_train)\n",
        "predictions_rf = model.predict(X_test)\n",
        "cm_rf = confusion_matrix(y_test, predictions_rf)\n",
        "print(cm_rf)\n",
        "perf_rf = performance(cm_rf)"
      ],
      "metadata": {
        "id": "BUIgPvATUW4W"
      },
      "execution_count": null,
      "outputs": []
    },
    {
      "cell_type": "markdown",
      "source": [
        "Random forests can be used to increase performance of decision trees by attempting to solve the issue of overfitting."
      ],
      "metadata": {
        "id": "xNOu3lakUaJr"
      }
    },
    {
      "cell_type": "code",
      "source": [
        "model_rf_scaled = RandomForestClassifier()\n",
        "model_rf_scaled.fit(X_train_scaled, y_train)\n",
        "predictions_rf_scaled = model.predict(X_test)\n",
        "cm_rf_sc = confusion_matrix(y_test, predictions_rf_scaled)\n",
        "print(cm_rf_sc)\n",
        "perf_rf_sc = performance(cm_rf_sc)"
      ],
      "metadata": {
        "id": "A7pQ3ztaUbnW"
      },
      "execution_count": null,
      "outputs": []
    },
    {
      "cell_type": "markdown",
      "source": [
        "Above we again introduce the scaled data to hope for an improvement in performance."
      ],
      "metadata": {
        "id": "kigsBK25Vq1g"
      }
    },
    {
      "cell_type": "markdown",
      "source": [
        "We would now like to tune the hyperparameters of the decision tree and random forest model. To do this we introduce the GridSearchCV, which takes an input of the model itself and a dictionary of possible parameters. It then performs cross-validation on every possible combination of parameters given in the dictionary and stores the optimal values.\n",
        "\n",
        "It should be noted that this method requires the creation of many many models. For example in the random forest parameter search there are 3*4*4*2*3*3*2 = 1728 models to be made with a 5-fold cross-validation being done. This results in 8640 models being ran, which is obviously extremely computationly expensive. In fact even for our moderately small dataset, whith singular models running almost instantly, the random forest grid search takes almost 22 minuites."
      ],
      "metadata": {
        "id": "NQx0dbLqV1PJ"
      }
    },
    {
      "cell_type": "markdown",
      "source": [
        "For the decision tree we try all possible measures of fit in sklearn (gini,entropy,log_loss).\n",
        "Max_features controls how much of the data is seen when performing splits, which can help with overfitting.\n",
        "ccp_alpha is used to adjust the sensitivity of miniml cost-pruning.\n",
        "max_depth is used to control the complexity of the model, limiting the depth can help prevent overfitting."
      ],
      "metadata": {
        "id": "lbnxz9ZHXiFu"
      }
    },
    {
      "cell_type": "code",
      "source": [
        "par_dtc = {'criterion':['gini', 'entropy', 'log_loss'],\n",
        "           'max_depth':[2,4,6,8],\n",
        "           'min_samples_split':[2,4,6,8],\n",
        "          'max_features': ['auto', 'sqrt', 'log2'],\n",
        "          'ccp_alpha': [0.1, 0.01, 0.001]}\n",
        "gcv_dtc = GridSearchCV(estimator=model_sc, param_grid=par_dtc, cv=5, verbose=1)\n",
        "gcv_dtc.fit(X_train_scaled, y_train)"
      ],
      "metadata": {
        "id": "Hii5mQHqXHT2"
      },
      "execution_count": null,
      "outputs": []
    },
    {
      "cell_type": "markdown",
      "source": [
        "For the random forest model we again test all criterion along with a selection of ccp_alpha, max_features, max_depth and min_samples_split values.\n",
        "We also add the min_samples_leaf field to test. This is because with min_samples_leaf=2 we would expect a smoothing effect of the resulting trees, this could cause models which combine together in a random forest better.\n",
        "We also would like to see if bootstrapping affects performance, so we add it to the parameter list."
      ],
      "metadata": {
        "id": "ofz10_5-YY87"
      }
    },
    {
      "cell_type": "code",
      "source": [
        "par_rtc = {'criterion':['gini', 'entropy', 'log_loss'],\n",
        "           'max_depth':[2,4,6,8],\n",
        "           'min_samples_split':[2,4,6,8],\n",
        "           'min_samples_leaf':[1,2],\n",
        "          'max_features': ['auto', 'sqrt', 'log2'],\n",
        "          'ccp_alpha': [0.1, 0.01, 0.001],\n",
        "           'bootstrap': [True,False]}\n",
        "gcv_rtc = GridSearchCV(estimator=model_rf_scaled, param_grid=par_rtc, cv=5, verbose=1)\n",
        "gcv_rtc.fit(X_train_scaled, y_train)"
      ],
      "metadata": {
        "id": "k3XxqGJTXTvZ"
      },
      "execution_count": null,
      "outputs": []
    },
    {
      "cell_type": "markdown",
      "source": [
        "We extract the best parameters below and fit an according model to each."
      ],
      "metadata": {
        "id": "Lds3iRRIZX_d"
      }
    },
    {
      "cell_type": "code",
      "source": [
        "gcv_rtc.best_params_"
      ],
      "metadata": {
        "id": "sqZ4Vg-mZdhM"
      },
      "execution_count": null,
      "outputs": []
    },
    {
      "cell_type": "code",
      "source": [
        "gcv_dtc.best_params_"
      ],
      "metadata": {
        "id": "LFO29vZSZd_y"
      },
      "execution_count": null,
      "outputs": []
    },
    {
      "cell_type": "code",
      "source": [
        "rtc_new = RandomForestClassifier(ccp_alpha= 0.001,criterion= 'entropy',max_depth= 8,max_features= 'auto',min_samples_split=2,min_samples_leaf=1,bootstrap=False)"
      ],
      "metadata": {
        "id": "G5MiSeaWZe8e"
      },
      "execution_count": null,
      "outputs": []
    },
    {
      "cell_type": "code",
      "source": [
        "model_sc_dt = DecisionTreeClassifier(ccp_alpha=0.01,criterion='entropy',max_depth= 6,max_features= 'auto',min_samples_split= 4)"
      ],
      "metadata": {
        "id": "5oN8vgySZfQH"
      },
      "execution_count": null,
      "outputs": []
    },
    {
      "cell_type": "code",
      "source": [
        "model_sc_dt.fit(X_train_scaled, y_train)\n",
        "predictions_sc_dt = model_sc_dt.predict(X_test_scaled)\n",
        "cm_sc_dt = confusion_matrix(y_test, predictions_sc_dt)\n",
        "print(cm_sc_dt)\n",
        "perf_sc_dt = performance(cm_sc_dt)"
      ],
      "metadata": {
        "id": "JHrrCCEEZsQt"
      },
      "execution_count": null,
      "outputs": []
    },
    {
      "cell_type": "code",
      "source": [
        "rtc_new.fit(X_train_scaled, y_train)\n",
        "pred_rtc = rtc_new.predict(X_test_scaled)\n",
        "cm_rtc = confusion_matrix(y_test, pred_rtc)\n",
        "print(cm_rtc)\n",
        "perf_rtc = performance(cm_rtc)"
      ],
      "metadata": {
        "id": "8zigu0B5ZuPn"
      },
      "execution_count": null,
      "outputs": []
    },
    {
      "cell_type": "code",
      "source": [
        "\n",
        "performancedf = {'Model Type': ['Standard Tree', 'Scaled data Tree','Scaled data Tree best Param','Random Rorest','Random Forest Scaled','RandomForest_best param'],\n",
        "                 'Accurancy': [perf_cm[0],perf_sc[0],perf_sc_dt[0],perf_rf[0],perf_rf_sc[0],perf_rtc[0]],\n",
        "                 'Sensitivity': [perf_cm[1],perf_sc[1],perf_sc_dt[1],perf_rf[1],perf_rf_sc[1],perf_rtc[1]],\n",
        "                 'Specificity': [perf_cm[2],perf_sc[2],perf_sc_dt[2],perf_rf[2],perf_rf_sc[2],perf_rtc[2]]}\n",
        "performancedf = pd.DataFrame(data=performancedf)\n",
        "performancedf"
      ],
      "metadata": {
        "id": "scARWpOVZxwY"
      },
      "execution_count": null,
      "outputs": []
    },
    {
      "cell_type": "markdown",
      "source": [
        "We would alsp like to inspect the roc_auc_score. This measures the area underneath an roc curve, with 1 indicating perfect performance and 0.5 suggesting completely random guesses."
      ],
      "metadata": {
        "id": "qmWPk4e5Z6IV"
      }
    },
    {
      "cell_type": "code",
      "source": [
        "false_positive_rate1, true_positive_rate1, threshold1 = roc_curve(y_test, predictions)\n",
        "print('roc_auc_score for DecisionTree: ', roc_auc_score(y_test, predictions))\n",
        "\n",
        "false_positive_rate2, true_positive_rate2, threshold2 = roc_curve(y_test, predictions_sc)\n",
        "print('roc_auc_score for DecisionTree with scaled data: ', roc_auc_score(y_test, predictions_sc))\n",
        "\n",
        "false_positive_rate5, true_positive_rate5, threshold5 = roc_curve(y_test, predictions_sc_dt)\n",
        "print('roc_auc_score for Decision Tree with parameters: ', roc_auc_score(y_test, predictions_sc_dt))\n",
        "\n",
        "false_positive_rate3, true_positive_rate3, threshold3 = roc_curve(y_test, predictions_rf)\n",
        "print('roc_auc_score for Random Forest: ', roc_auc_score(y_test, predictions_rf))\n",
        "\n",
        "false_positive_rate6, true_positive_rate6, threshold6 = roc_curve(y_test, predictions_rf_scaled)\n",
        "print('roc_auc_score for Random Forest with scaled data: ', roc_auc_score(y_test, predictions_rf_scaled))\n",
        "\n",
        "false_positive_rate4, true_positive_rate4, threshold4 = roc_curve(y_test, pred_rtc)\n",
        "print('roc_auc_score for Random Forest with parameters: ', roc_auc_score(y_test, pred_rtc))"
      ],
      "metadata": {
        "id": "bCnOvf-xaXQt"
      },
      "execution_count": null,
      "outputs": []
    },
    {
      "cell_type": "markdown",
      "source": [
        "Below We use a slightly modified version of Andre's function run_model. I change it to look at sensitivity as we are interested in health data."
      ],
      "metadata": {
        "id": "UJl0jCzwahBM"
      }
    },
    {
      "cell_type": "code",
      "source": [
        "def run_modelJ(model, X, y, n_splits=5, random_state=None):\n",
        "    \"\"\"\n",
        "    Run a machine learning model with K-Fold cross-validation.\n",
        "\n",
        "    Args:\n",
        "        model: The machine learning model (e.g., LogisticRegression, RandomForestClassifier, etc.).\n",
        "        X_data: The feature data.\n",
        "        y_data: The target variable.\n",
        "        n_splits (int): The number of cross-validation splits.\n",
        "        random_state (int): Random seed for reproducibility.\n",
        "\n",
        "    Returns:\n",
        "        mean_sensitivity (float): Mean accuracy across all folds.\n",
        "    \"\"\"\n",
        "    # Initialize the model\n",
        "    ml_model = model\n",
        "\n",
        "    # Initialize K-Fold cross-validator\n",
        "    kf = KFold(n_splits=n_splits, shuffle=True, random_state=random_state)\n",
        "\n",
        "    # Lists to store cross-validation results\n",
        "    sensitivity = []\n",
        "\n",
        "    X_data = X\n",
        "    y_data = y['Diagnosis']\n",
        "\n",
        "    # Perform K-Fold cross-validation\n",
        "    for train_idx, test_idx in kf.split(X_data):\n",
        "        X_train, X_test = X_data.iloc[train_idx], X_data.iloc[test_idx]\n",
        "        y_train, y_test = y_data.iloc[train_idx], y_data.iloc[test_idx]\n",
        "\n",
        "        # Fit the model on the training data\n",
        "        ml_model.fit(X_train, y_train)\n",
        "\n",
        "        # Make predictions on the test data\n",
        "        y_pred = ml_model.predict(X_test)\n",
        "\n",
        "        # Calculate accuracy for this fold\n",
        "        cf = confusion_matrix(y_test, y_pred)\n",
        "        sens = performance(cf)[1]\n",
        "        sens = float(sens)\n",
        "        sensitivity.append(sens)\n",
        "\n",
        "    # Calculate the mean accuracy across all folds\n",
        "    mean_sensitivity = sum(sensitivity) / n_splits\n",
        "\n",
        "    print(f\"Sensitivities: {sensitivity}\")\n",
        "    print(f\"Mean Sensitivity: {mean_sensitivity}\")\n",
        "\n",
        "    return mean_sensitivity"
      ],
      "metadata": {
        "id": "HRdxZrufahXq"
      },
      "execution_count": null,
      "outputs": []
    },
    {
      "cell_type": "code",
      "source": [
        "print('Standard Decision Tree')\n",
        "run_modelJ(model,X,y,random_state=4)\n",
        "print('Standard Decision Tree with scaling')\n",
        "run_modelJ(model_sc,X,y,random_state=4)\n",
        "print('Decision Tree with scaling and parameters')\n",
        "run_modelJ(model_sc_dt,X,y,5,random_state=4)\n",
        "print('Random Forest')\n",
        "run_modelJ(model_rf,X,y,5,random_state=4)\n",
        "print('Random Forest with scaling')\n",
        "run_modelJ(model_rf_scaled,X,y,5,random_state=4)\n",
        "print('Random Forest with scaling and parameters')\n",
        "run_modelJ(rtc_new,X,y,5,random_state=4)"
      ],
      "metadata": {
        "id": "DfWYf8VUa29n"
      },
      "execution_count": null,
      "outputs": []
    },
    {
      "cell_type": "markdown",
      "source": [
        "As can be seen from the above results. The grid search was able to find parameters that improved both the decision tree and the random forest. Scaling seems to improve things, but it should be noted that the predicitons were already very good and improving these further would be difficult. However, 98% sensitivity is still a very good result."
      ],
      "metadata": {
        "id": "ZEdvGGn2bEIn"
      }
    },
    {
      "cell_type": "markdown",
      "source": [
        "Below we investigate the effect removing variables which were lowly correlated to the response variable and highly correlated to each other."
      ],
      "metadata": {
        "id": "F6rrCVL9AWB9"
      }
    },
    {
      "cell_type": "code",
      "source": [
        "print('Standard Decision Tree with Dropped Features')\n",
        "run_modelJ(model,X_relevant_dropped,y,random_state=4)\n",
        "print('Standard Decision Tree with scaling with Dropped Features')\n",
        "run_modelJ(model_sc,X_relevant_dropped,y,random_state=4)\n",
        "print('Decision Tree with scaling and parameters with Dropped Features')\n",
        "run_modelJ(model_sc_dt,X_relevant_dropped,y,5,random_state=4)\n",
        "print('Random Forest with Dropped Features')\n",
        "run_modelJ(model_rf,X_relevant_dropped,y,5,random_state=4)\n",
        "print('Random Forest with scaling with Dropped Features')\n",
        "run_modelJ(model_rf_scaled,X_relevant_dropped,y,5,random_state=4)\n",
        "print('Random Forest with scaling and parameters with Dropped Features')\n",
        "run_modelJ(rtc_new,X_relevant_dropped,y,5,random_state=4)"
      ],
      "metadata": {
        "id": "dqUSlwwrAPDh"
      },
      "execution_count": null,
      "outputs": []
    },
    {
      "cell_type": "markdown",
      "source": [
        "It seems the data which had dropped features seems to perform on average slightly worse. This suggests to me that the data was not overfitting and most data held some value/ information regarding the target variable.\n",
        "\n",
        "Despite the dropped variables being highly correlated with each other and lowly correlated with the traget variable, there was still some information to be gained by adding them in.\n",
        "\n",
        "However, the model still performs with a sensitivity only a few percent lower for all models. This is remarkablw considering over half of the features were dropped. This does sugest the highly correlated variables shared alot of the information."
      ],
      "metadata": {
        "id": "V59oreVZAT55"
      }
    },
    {
      "cell_type": "markdown",
      "source": [
        "#Geraint"
      ],
      "metadata": {
        "id": "Ul2MSgVqEXg9"
      }
    },
    {
      "cell_type": "code",
      "source": [
        "data = pd.concat([X , y] , axis = 1)"
      ],
      "metadata": {
        "id": "H0T18JbiEagv"
      },
      "execution_count": null,
      "outputs": []
    },
    {
      "cell_type": "code",
      "source": [
        "corr = data.corr()\n",
        "#plt.figure(figsize=(20,20))\n",
        "#sns.heatmap(corr, cmap='mako_r',annot=True)\n",
        "#plt.show()"
      ],
      "metadata": {
        "id": "1f57f0cc"
      },
      "execution_count": null,
      "outputs": []
    },
    {
      "cell_type": "code",
      "execution_count": null,
      "metadata": {
        "id": "c6875c92",
        "colab": {
          "base_uri": "https://localhost:8080/"
        },
        "outputId": "a2d75251-2ba1-477e-bffb-05aed7eac22e"
      },
      "outputs": [
        {
          "output_type": "stream",
          "name": "stdout",
          "text": [
            "Index(['radius1', 'texture1', 'perimeter1', 'area1', 'smoothness1',\n",
            "       'compactness1', 'concavity1', 'concave_points1', 'symmetry1', 'radius2',\n",
            "       'perimeter2', 'area2', 'compactness2', 'concavity2', 'concave_points2',\n",
            "       'radius3', 'texture3', 'perimeter3', 'area3', 'smoothness3',\n",
            "       'compactness3', 'concavity3', 'concave_points3', 'symmetry3',\n",
            "       'fractal_dimension3'],\n",
            "      dtype='object')\n"
          ]
        }
      ],
      "source": [
        "#Now we want to collect highly correlated features (greater than a set threshold)\n",
        "threshold = 0.2\n",
        "cor_target = abs(corr[\"Diagnosis\"])\n",
        "relevant_features = cor_target[cor_target>threshold]\n",
        "names = relevant_features.keys()\n",
        "#drop the target feature from the list of 'highly' correlated features\n",
        "names = names.drop('Diagnosis')\n",
        "print(names)"
      ]
    },
    {
      "cell_type": "code",
      "execution_count": null,
      "metadata": {
        "id": "5fdb0c09"
      },
      "outputs": [],
      "source": [
        "#Set our train/test inputs to include only the features we care about\n",
        "X_train1, X_test1 = X_train[names], X_test[names]\n",
        "#Our model also requires our response vector to be a 1d array\n",
        "y_train1, y_test1 = np.ravel(y_train), np.ravel(y_test)"
      ]
    },
    {
      "cell_type": "code",
      "execution_count": null,
      "metadata": {
        "id": "d38f09a1"
      },
      "outputs": [],
      "source": [
        "model = LogisticRegression()"
      ]
    },
    {
      "cell_type": "code",
      "execution_count": null,
      "metadata": {
        "id": "4cac2869",
        "outputId": "30caf2f4-8b68-445b-b86d-7a7529a2a991",
        "colab": {
          "base_uri": "https://localhost:8080/",
          "height": 223
        }
      },
      "outputs": [
        {
          "output_type": "stream",
          "name": "stderr",
          "text": [
            "/usr/local/lib/python3.10/dist-packages/sklearn/linear_model/_logistic.py:458: ConvergenceWarning: lbfgs failed to converge (status=1):\n",
            "STOP: TOTAL NO. of ITERATIONS REACHED LIMIT.\n",
            "\n",
            "Increase the number of iterations (max_iter) or scale the data as shown in:\n",
            "    https://scikit-learn.org/stable/modules/preprocessing.html\n",
            "Please also refer to the documentation for alternative solver options:\n",
            "    https://scikit-learn.org/stable/modules/linear_model.html#logistic-regression\n",
            "  n_iter_i = _check_optimize_result(\n"
          ]
        },
        {
          "output_type": "execute_result",
          "data": {
            "text/plain": [
              "LogisticRegression()"
            ],
            "text/html": [
              "<style>#sk-container-id-9 {color: black;background-color: white;}#sk-container-id-9 pre{padding: 0;}#sk-container-id-9 div.sk-toggleable {background-color: white;}#sk-container-id-9 label.sk-toggleable__label {cursor: pointer;display: block;width: 100%;margin-bottom: 0;padding: 0.3em;box-sizing: border-box;text-align: center;}#sk-container-id-9 label.sk-toggleable__label-arrow:before {content: \"▸\";float: left;margin-right: 0.25em;color: #696969;}#sk-container-id-9 label.sk-toggleable__label-arrow:hover:before {color: black;}#sk-container-id-9 div.sk-estimator:hover label.sk-toggleable__label-arrow:before {color: black;}#sk-container-id-9 div.sk-toggleable__content {max-height: 0;max-width: 0;overflow: hidden;text-align: left;background-color: #f0f8ff;}#sk-container-id-9 div.sk-toggleable__content pre {margin: 0.2em;color: black;border-radius: 0.25em;background-color: #f0f8ff;}#sk-container-id-9 input.sk-toggleable__control:checked~div.sk-toggleable__content {max-height: 200px;max-width: 100%;overflow: auto;}#sk-container-id-9 input.sk-toggleable__control:checked~label.sk-toggleable__label-arrow:before {content: \"▾\";}#sk-container-id-9 div.sk-estimator input.sk-toggleable__control:checked~label.sk-toggleable__label {background-color: #d4ebff;}#sk-container-id-9 div.sk-label input.sk-toggleable__control:checked~label.sk-toggleable__label {background-color: #d4ebff;}#sk-container-id-9 input.sk-hidden--visually {border: 0;clip: rect(1px 1px 1px 1px);clip: rect(1px, 1px, 1px, 1px);height: 1px;margin: -1px;overflow: hidden;padding: 0;position: absolute;width: 1px;}#sk-container-id-9 div.sk-estimator {font-family: monospace;background-color: #f0f8ff;border: 1px dotted black;border-radius: 0.25em;box-sizing: border-box;margin-bottom: 0.5em;}#sk-container-id-9 div.sk-estimator:hover {background-color: #d4ebff;}#sk-container-id-9 div.sk-parallel-item::after {content: \"\";width: 100%;border-bottom: 1px solid gray;flex-grow: 1;}#sk-container-id-9 div.sk-label:hover label.sk-toggleable__label {background-color: #d4ebff;}#sk-container-id-9 div.sk-serial::before {content: \"\";position: absolute;border-left: 1px solid gray;box-sizing: border-box;top: 0;bottom: 0;left: 50%;z-index: 0;}#sk-container-id-9 div.sk-serial {display: flex;flex-direction: column;align-items: center;background-color: white;padding-right: 0.2em;padding-left: 0.2em;position: relative;}#sk-container-id-9 div.sk-item {position: relative;z-index: 1;}#sk-container-id-9 div.sk-parallel {display: flex;align-items: stretch;justify-content: center;background-color: white;position: relative;}#sk-container-id-9 div.sk-item::before, #sk-container-id-9 div.sk-parallel-item::before {content: \"\";position: absolute;border-left: 1px solid gray;box-sizing: border-box;top: 0;bottom: 0;left: 50%;z-index: -1;}#sk-container-id-9 div.sk-parallel-item {display: flex;flex-direction: column;z-index: 1;position: relative;background-color: white;}#sk-container-id-9 div.sk-parallel-item:first-child::after {align-self: flex-end;width: 50%;}#sk-container-id-9 div.sk-parallel-item:last-child::after {align-self: flex-start;width: 50%;}#sk-container-id-9 div.sk-parallel-item:only-child::after {width: 0;}#sk-container-id-9 div.sk-dashed-wrapped {border: 1px dashed gray;margin: 0 0.4em 0.5em 0.4em;box-sizing: border-box;padding-bottom: 0.4em;background-color: white;}#sk-container-id-9 div.sk-label label {font-family: monospace;font-weight: bold;display: inline-block;line-height: 1.2em;}#sk-container-id-9 div.sk-label-container {text-align: center;}#sk-container-id-9 div.sk-container {/* jupyter's `normalize.less` sets `[hidden] { display: none; }` but bootstrap.min.css set `[hidden] { display: none !important; }` so we also need the `!important` here to be able to override the default hidden behavior on the sphinx rendered scikit-learn.org. See: https://github.com/scikit-learn/scikit-learn/issues/21755 */display: inline-block !important;position: relative;}#sk-container-id-9 div.sk-text-repr-fallback {display: none;}</style><div id=\"sk-container-id-9\" class=\"sk-top-container\"><div class=\"sk-text-repr-fallback\"><pre>LogisticRegression()</pre><b>In a Jupyter environment, please rerun this cell to show the HTML representation or trust the notebook. <br />On GitHub, the HTML representation is unable to render, please try loading this page with nbviewer.org.</b></div><div class=\"sk-container\" hidden><div class=\"sk-item\"><div class=\"sk-estimator sk-toggleable\"><input class=\"sk-toggleable__control sk-hidden--visually\" id=\"sk-estimator-id-9\" type=\"checkbox\" checked><label for=\"sk-estimator-id-9\" class=\"sk-toggleable__label sk-toggleable__label-arrow\">LogisticRegression</label><div class=\"sk-toggleable__content\"><pre>LogisticRegression()</pre></div></div></div></div></div>"
            ]
          },
          "metadata": {},
          "execution_count": 99
        }
      ],
      "source": [
        "model.fit(X_train1, y_train1)"
      ]
    },
    {
      "cell_type": "code",
      "source": [
        "predictions = model.predict(X_test1)"
      ],
      "metadata": {
        "id": "hWB_zV-N_1F8"
      },
      "execution_count": null,
      "outputs": []
    },
    {
      "cell_type": "code",
      "execution_count": null,
      "metadata": {
        "scrolled": false,
        "id": "7622b123",
        "outputId": "0208b399-87fd-4d18-addb-c8b0307c0c20",
        "colab": {
          "base_uri": "https://localhost:8080/"
        }
      },
      "outputs": [
        {
          "output_type": "stream",
          "name": "stdout",
          "text": [
            "[[30  4]\n",
            " [ 8 72]]\n"
          ]
        }
      ],
      "source": [
        "cm = confusion_matrix(y_test1, predictions)\n",
        "print(cm)"
      ]
    },
    {
      "cell_type": "code",
      "execution_count": null,
      "metadata": {
        "id": "ab59c174",
        "outputId": "dd91463e-5ca0-4bcb-bc2b-53d79a5b516f",
        "colab": {
          "base_uri": "https://localhost:8080/"
        }
      },
      "outputs": [
        {
          "output_type": "stream",
          "name": "stdout",
          "text": [
            "Accuracy = 0.8947368421052632\n",
            "Sensitivity = 0.9\n",
            "Specificity = 0.8823529411764706\n"
          ]
        }
      ],
      "source": [
        "performance(cm)"
      ]
    },
    {
      "cell_type": "code",
      "source": [
        "#we can see whether scaling our data will improve our model\n",
        "sc = StandardScaler()\n",
        "X_train1_sc = sc.fit_transform(X_train1)\n",
        "X_test1_sc = sc.fit_transform(X_test1)\n",
        "#assert abs(X_train1_sc.mean()) < 1e10 , abs(1 - X_train1_sc.std()) < 1e10\n",
        "#assert abs(X_test1_sc.mean()) < 1e10 , abs(1 - X_test1_sc.std()) < 1e10"
      ],
      "metadata": {
        "id": "cRRBcYjkDCD_"
      },
      "execution_count": null,
      "outputs": []
    },
    {
      "cell_type": "code",
      "source": [
        "model_sc = LogisticRegression()\n",
        "model_sc.fit(X_train1_sc, y_train1)"
      ],
      "metadata": {
        "colab": {
          "base_uri": "https://localhost:8080/",
          "height": 75
        },
        "id": "8DHCq6TgJIkn",
        "outputId": "8cf5a481-324f-4d9d-d163-5e81aa6a32ab"
      },
      "execution_count": null,
      "outputs": [
        {
          "output_type": "execute_result",
          "data": {
            "text/plain": [
              "LogisticRegression()"
            ],
            "text/html": [
              "<style>#sk-container-id-10 {color: black;background-color: white;}#sk-container-id-10 pre{padding: 0;}#sk-container-id-10 div.sk-toggleable {background-color: white;}#sk-container-id-10 label.sk-toggleable__label {cursor: pointer;display: block;width: 100%;margin-bottom: 0;padding: 0.3em;box-sizing: border-box;text-align: center;}#sk-container-id-10 label.sk-toggleable__label-arrow:before {content: \"▸\";float: left;margin-right: 0.25em;color: #696969;}#sk-container-id-10 label.sk-toggleable__label-arrow:hover:before {color: black;}#sk-container-id-10 div.sk-estimator:hover label.sk-toggleable__label-arrow:before {color: black;}#sk-container-id-10 div.sk-toggleable__content {max-height: 0;max-width: 0;overflow: hidden;text-align: left;background-color: #f0f8ff;}#sk-container-id-10 div.sk-toggleable__content pre {margin: 0.2em;color: black;border-radius: 0.25em;background-color: #f0f8ff;}#sk-container-id-10 input.sk-toggleable__control:checked~div.sk-toggleable__content {max-height: 200px;max-width: 100%;overflow: auto;}#sk-container-id-10 input.sk-toggleable__control:checked~label.sk-toggleable__label-arrow:before {content: \"▾\";}#sk-container-id-10 div.sk-estimator input.sk-toggleable__control:checked~label.sk-toggleable__label {background-color: #d4ebff;}#sk-container-id-10 div.sk-label input.sk-toggleable__control:checked~label.sk-toggleable__label {background-color: #d4ebff;}#sk-container-id-10 input.sk-hidden--visually {border: 0;clip: rect(1px 1px 1px 1px);clip: rect(1px, 1px, 1px, 1px);height: 1px;margin: -1px;overflow: hidden;padding: 0;position: absolute;width: 1px;}#sk-container-id-10 div.sk-estimator {font-family: monospace;background-color: #f0f8ff;border: 1px dotted black;border-radius: 0.25em;box-sizing: border-box;margin-bottom: 0.5em;}#sk-container-id-10 div.sk-estimator:hover {background-color: #d4ebff;}#sk-container-id-10 div.sk-parallel-item::after {content: \"\";width: 100%;border-bottom: 1px solid gray;flex-grow: 1;}#sk-container-id-10 div.sk-label:hover label.sk-toggleable__label {background-color: #d4ebff;}#sk-container-id-10 div.sk-serial::before {content: \"\";position: absolute;border-left: 1px solid gray;box-sizing: border-box;top: 0;bottom: 0;left: 50%;z-index: 0;}#sk-container-id-10 div.sk-serial {display: flex;flex-direction: column;align-items: center;background-color: white;padding-right: 0.2em;padding-left: 0.2em;position: relative;}#sk-container-id-10 div.sk-item {position: relative;z-index: 1;}#sk-container-id-10 div.sk-parallel {display: flex;align-items: stretch;justify-content: center;background-color: white;position: relative;}#sk-container-id-10 div.sk-item::before, #sk-container-id-10 div.sk-parallel-item::before {content: \"\";position: absolute;border-left: 1px solid gray;box-sizing: border-box;top: 0;bottom: 0;left: 50%;z-index: -1;}#sk-container-id-10 div.sk-parallel-item {display: flex;flex-direction: column;z-index: 1;position: relative;background-color: white;}#sk-container-id-10 div.sk-parallel-item:first-child::after {align-self: flex-end;width: 50%;}#sk-container-id-10 div.sk-parallel-item:last-child::after {align-self: flex-start;width: 50%;}#sk-container-id-10 div.sk-parallel-item:only-child::after {width: 0;}#sk-container-id-10 div.sk-dashed-wrapped {border: 1px dashed gray;margin: 0 0.4em 0.5em 0.4em;box-sizing: border-box;padding-bottom: 0.4em;background-color: white;}#sk-container-id-10 div.sk-label label {font-family: monospace;font-weight: bold;display: inline-block;line-height: 1.2em;}#sk-container-id-10 div.sk-label-container {text-align: center;}#sk-container-id-10 div.sk-container {/* jupyter's `normalize.less` sets `[hidden] { display: none; }` but bootstrap.min.css set `[hidden] { display: none !important; }` so we also need the `!important` here to be able to override the default hidden behavior on the sphinx rendered scikit-learn.org. See: https://github.com/scikit-learn/scikit-learn/issues/21755 */display: inline-block !important;position: relative;}#sk-container-id-10 div.sk-text-repr-fallback {display: none;}</style><div id=\"sk-container-id-10\" class=\"sk-top-container\"><div class=\"sk-text-repr-fallback\"><pre>LogisticRegression()</pre><b>In a Jupyter environment, please rerun this cell to show the HTML representation or trust the notebook. <br />On GitHub, the HTML representation is unable to render, please try loading this page with nbviewer.org.</b></div><div class=\"sk-container\" hidden><div class=\"sk-item\"><div class=\"sk-estimator sk-toggleable\"><input class=\"sk-toggleable__control sk-hidden--visually\" id=\"sk-estimator-id-10\" type=\"checkbox\" checked><label for=\"sk-estimator-id-10\" class=\"sk-toggleable__label sk-toggleable__label-arrow\">LogisticRegression</label><div class=\"sk-toggleable__content\"><pre>LogisticRegression()</pre></div></div></div></div></div>"
            ]
          },
          "metadata": {},
          "execution_count": 109
        }
      ]
    },
    {
      "cell_type": "code",
      "source": [
        "predictions_sc = model_sc.predict(X_test1_sc)"
      ],
      "metadata": {
        "id": "4wvkFk-BKppw"
      },
      "execution_count": null,
      "outputs": []
    },
    {
      "cell_type": "code",
      "source": [
        "cm_sc = confusion_matrix(y_test1, predictions_sc)\n",
        "print(cm_sc)"
      ],
      "metadata": {
        "colab": {
          "base_uri": "https://localhost:8080/"
        },
        "id": "4Jk9vK0nK9rV",
        "outputId": "76ee0b6c-77ce-4bb7-a29b-ef4df3ad272a"
      },
      "execution_count": null,
      "outputs": [
        {
          "output_type": "stream",
          "name": "stdout",
          "text": [
            "[[34  0]\n",
            " [ 5 75]]\n"
          ]
        }
      ]
    },
    {
      "cell_type": "code",
      "source": [
        "performance(cm_sc)"
      ],
      "metadata": {
        "colab": {
          "base_uri": "https://localhost:8080/"
        },
        "id": "lRfbP47ILDu4",
        "outputId": "1a351428-f38c-40fa-8c4e-f0e1ceeebddf"
      },
      "execution_count": null,
      "outputs": [
        {
          "output_type": "stream",
          "name": "stdout",
          "text": [
            "Accuracy = 0.956140350877193\n",
            "Sensitivity = 0.9375\n",
            "Specificity = 1.0\n"
          ]
        }
      ]
    }
  ]
}